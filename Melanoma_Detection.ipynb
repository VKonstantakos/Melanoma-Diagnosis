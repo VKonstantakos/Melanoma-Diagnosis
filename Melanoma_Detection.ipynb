{
  "nbformat": 4,
  "nbformat_minor": 0,
  "metadata": {
    "colab": {
      "name": "Melanoma-Detection.ipynb",
      "provenance": [],
      "collapsed_sections": [
<<<<<<< HEAD
        "irvW-fLpJLA5",
        "KKM4nHbrplUy",
        "_GggNPOiibYG",
        "qiFwY6bVTuQ2",
        "Xwq_iLZvTwXG",
        "MTI5P7VR5mea",
        "6D1Neln8zdgz",
        "PljBSutdA0St",
        "ucKxThfPVpLh",
        "C8AbdndcVrjt",
        "uooj1tAlbNA4",
        "j_ZsuezIiPpL",
        "lQ0iHis9qUxV"
      ]
=======
        "IKdiZf9oCCX6",
        "jVDy9wwS3-s7",
        "kAI126NuA8t6",
        "KKM4nHbrplUy",
        "z3kE-JST-9Xu",
        "MTI5P7VR5mea",
        "7tUEgv7zzdgv",
        "6D1Neln8zdgz",
        "MLggd3A4Fm3s",
        "UiHqaDtWF04v",
        "lQ0iHis9qUxV"
      ],
      "toc_visible": true
>>>>>>> b0a82ff91589df1a80c3c45bbf3dc0a1a2cbc2d3
    },
    "kernelspec": {
      "name": "python3",
      "display_name": "Python 3"
    },
    "language_info": {
      "name": "python"
<<<<<<< HEAD
    }
=======
    },
    "accelerator": "GPU"
>>>>>>> b0a82ff91589df1a80c3c45bbf3dc0a1a2cbc2d3
  },
  "cells": [
    {
      "cell_type": "markdown",
      "metadata": {
        "id": "IKdiZf9oCCX6"
      },
      "source": [
        "# Prepare Project\n",
        "\n",
        "Can be run on Google Colab."
      ]
    },
    {
      "cell_type": "markdown",
      "metadata": {
        "id": "jVDy9wwS3-s7"
      },
      "source": [
        "## Install libraries"
      ]
    },
    {
      "cell_type": "code",
      "metadata": {
        "id": "GCFBFzbnYXHE"
      },
      "source": [
        "# Libraries to download datasets\n",
        "!pip install sla-cli\n",
        "!pip install alive-progress\n",
        "!pip install patool\n",
        "!pip install fuzzywuzzy"
      ],
      "execution_count": null,
      "outputs": []
    },
    {
      "cell_type": "code",
      "metadata": {
        "id": "Qi1P3hRNYX79"
      },
      "source": [
        "# Summary of datasets\n",
        "!sla-cli ls -v all"
      ],
      "execution_count": null,
      "outputs": []
    },
    {
<<<<<<< HEAD
      "cell_type": "code",
      "metadata": {
        "id": "l5B6G_CfUpAq"
      },
      "source": [
        "!pip install gpyopt"
      ],
      "execution_count": null,
      "outputs": []
    },
    {
=======
>>>>>>> b0a82ff91589df1a80c3c45bbf3dc0a1a2cbc2d3
      "cell_type": "markdown",
      "metadata": {
        "id": "kAI126NuA8t6"
      },
      "source": [
        "## Import libraries"
      ]
    },
    {
      "cell_type": "code",
      "metadata": {
        "id": "UfHWjuXE1Ozg"
      },
      "source": [
        "import os\n",
<<<<<<< HEAD
        "import cv2\n",
=======
>>>>>>> b0a82ff91589df1a80c3c45bbf3dc0a1a2cbc2d3
        "import shutil\n",
        "import random\n",
        "import zipfile\n",
        "import numpy as np\n",
        "import pandas as pd\n",
        "import seaborn as sns\n",
        "import matplotlib.pyplot as plt\n",
        "\n",
        "from tqdm.notebook import tqdm\n",
        "from sklearn.utils import class_weight\n",
        "\n",
        "sns.set()"
      ],
<<<<<<< HEAD
      "execution_count": 2,
=======
      "execution_count": null,
>>>>>>> b0a82ff91589df1a80c3c45bbf3dc0a1a2cbc2d3
      "outputs": []
    },
    {
      "cell_type": "code",
      "metadata": {
        "id": "viMbqptftSev"
      },
      "source": [
<<<<<<< HEAD
        "#import GPyOpt\n",
        "import tensorflow as tf\n",
        "from tensorflow.keras import optimizers, metrics, losses\n",
        "from tensorflow.keras.models import Model, Sequential\n",
        "from keras.preprocessing import image\n",
        "from tensorflow.keras.preprocessing.image import ImageDataGenerator\n",
        "from tensorflow.keras.callbacks import ReduceLROnPlateau, EarlyStopping, ModelCheckpoint, Callback\n",
        "from tensorflow.keras.layers import Input, InputLayer, Conv2D, GlobalAveragePooling2D, MaxPooling2D, Dense, Dropout, Flatten, BatchNormalization, LeakyReLU, Reshape, Conv2DTranspose"
      ],
      "execution_count": 3,
=======
        "import tensorflow as tf\n",
        "from tensorflow.keras import optimizers\n",
        "from tensorflow.keras.models import Model, Sequential\n",
        "from tensorflow.keras.preprocessing.image import ImageDataGenerator\n",
        "from tensorflow.keras.callbacks import ReduceLROnPlateau, EarlyStopping, ModelCheckpoint\n",
        "from tensorflow.keras.layers import Conv2D, GlobalAveragePooling2D, MaxPooling2D, Dense, Dropout, Flatten, BatchNormalization\n",
        "\n",
        "from tensorflow.keras.applications.nasnet import NASNetLarge\n",
        "from tensorflow.keras.applications.inception_v3 import InceptionV3\n",
        "from tensorflow.keras.applications.efficientnet import EfficientNetB7\n",
        "from tensorflow.keras.applications.inception_resnet_v2 import InceptionResNetV2"
      ],
      "execution_count": null,
>>>>>>> b0a82ff91589df1a80c3c45bbf3dc0a1a2cbc2d3
      "outputs": []
    },
    {
      "cell_type": "markdown",
      "metadata": {
        "id": "hK-egEK35jf8"
      },
      "source": [
        "## Helper functions"
      ]
    },
    {
      "cell_type": "markdown",
      "metadata": {
<<<<<<< HEAD
        "id": "irvW-fLpJLA5"
      },
      "source": [
        "### Data Processing functions"
      ]
    },
    {
      "cell_type": "markdown",
      "metadata": {
        "id": "3LGtWav-rKJ3"
      },
      "source": [
        "General Image pre-processing/augmentation"
      ]
    },
    {
      "cell_type": "code",
      "metadata": {
        "id": "YoHCFnm0uH7g"
      },
      "source": [
        "# Define download function\n",
        "def download(url, destination_folder='.'):\n",
        "  '''\n",
        "  Downloads data from a URL to a specified folder.\n",
        "  '''\n",
        "\n",
        "  !wget -nc -q --show-progress $url -P $destination_folder\n",
        "\n",
        "\n",
        "# Define preprocessing functions\n",
        "def draw_hair(image, num_hair=7, hair_width=(1, 2)):\n",
        "  '''\n",
        "  Draws random lines to mimic fake hair on the skin.\n",
        "\n",
        "  :parameter image: image to apply transformation to\n",
        "  :parameter num_hair: maximum number of hairs to draw\n",
        "  :parameter hair_width: possible width of the hair in pixels\n",
        "  '''\n",
        "\n",
        "  width, height, _ = image.shape\n",
        "  image_hair = image.copy()\n",
        "      \n",
        "  for _ in range(random.randint(0, num_hair)):\n",
        "    \n",
        "    # The origin point of the line will always be at the top half of the image\n",
        "    origin = (random.randint(0, width), random.randint(0, height // 2))\n",
        "\n",
        "    # The end of the line \n",
        "    end = (random.randint(0, width), random.randint(0, height))\n",
        "\n",
        "    # Color of the hair: black\n",
        "    color = (0, 0, 0)  \n",
        "    cv2.line(image_hair, origin, end, color, random.randint(hair_width[0], hair_width[1]))\n",
        "  \n",
        "  return image_hair\n",
        "\n",
        "\n",
        "def dermoscope(image, p=0.5):\n",
        "  '''\n",
        "  Cuts out the edges around the center circle of the image to\n",
        "  imitate a picture, taken through a dermoscope.\n",
        "\n",
        "  :parameter image: image to apply transformation to\n",
        "  :parameter p: probability of applying the transformation\n",
        "  '''\n",
        "\n",
        "  if random.random() < p:\n",
        "      circle = cv2.circle((np.ones(image.shape) * 255).astype(np.uint8), # image placeholder\n",
        "                  (image.shape[0]//2, image.shape[1]//2), # center point of circle\n",
        "                  random.randint(image.shape[0]//2 - 3, image.shape[0]//2 + 15), # radius\n",
        "                  (0, 0, 0), # color\n",
        "                  -1)\n",
        "\n",
        "      mask = circle - 255\n",
        "      image = np.multiply(image, mask)\n",
        "  \n",
        "  return image\n",
        "\n",
        "\n",
        "def custom_preprocessing_function(image):\n",
        "  '''\n",
        "  Combines the appropriate preprocessing function with custom ones.\n",
        "  '''\n",
        "\n",
        "  image_processed = image.copy()\n",
        "\n",
        "  if preprocessing_function:\n",
        "    image_processed = preprocessing_function(image_processed)\n",
        "\n",
        "  image_processed = draw_hair(image_processed)\n",
        "  image_processed = dermoscope(image_processed)\n",
        "\n",
        "  return image_processed"
      ],
      "execution_count": 4,
      "outputs": []
    },
    {
      "cell_type": "markdown",
      "metadata": {
        "id": "wVUV5LbHrQME"
      },
      "source": [
        "Image Augmentation using GAN"
      ]
    },
    {
      "cell_type": "code",
      "metadata": {
        "id": "tgvNMnr-nBf_"
      },
      "source": [
        "class GAN(Model):\n",
        "    def __init__(self, discriminator, generator, latent_dim):\n",
        "        super(GAN, self).__init__()\n",
        "        self.discriminator = discriminator\n",
        "        self.generator = generator\n",
        "        self.latent_dim = latent_dim\n",
        "\n",
        "    def compile(self, d_optimizer, g_optimizer, loss_fn):\n",
        "        super(GAN, self).compile()\n",
        "        self.d_optimizer = d_optimizer\n",
        "        self.g_optimizer = g_optimizer\n",
        "        self.loss_fn = loss_fn\n",
        "        self.d_loss_metric = metrics.Mean(name=\"d_loss\")\n",
        "        self.g_loss_metric = metrics.Mean(name=\"g_loss\")\n",
        "\n",
        "    @property\n",
        "    def metrics(self):\n",
        "        return [self.d_loss_metric, self.g_loss_metric]\n",
        "\n",
        "    def train_step(self, real_images):\n",
        "        # Sample random points in the latent space\n",
        "        batch_size = tf.shape(real_images)[0]\n",
        "        random_latent_vectors = tf.random.normal(shape=(batch_size, self.latent_dim))\n",
        "\n",
        "        # Decode them to fake images\n",
        "        generated_images = self.generator(random_latent_vectors)\n",
        "\n",
        "        # Combine them with real images\n",
        "        combined_images = tf.concat([generated_images, real_images], axis=0)\n",
        "\n",
        "        # Assemble labels discriminating real from fake images\n",
        "        labels = tf.concat(\n",
        "            [tf.ones((batch_size, 1)), tf.zeros((batch_size, 1))], axis=0\n",
        "        )\n",
        "\n",
        "        # Add random noise to the labels - important trick!\n",
        "        labels += 0.05 * tf.random.uniform(tf.shape(labels))\n",
        "\n",
        "        # Train the discriminator\n",
        "        with tf.GradientTape() as tape:\n",
        "            predictions = self.discriminator(combined_images)\n",
        "            d_loss = self.loss_fn(labels, predictions)\n",
        "        grads = tape.gradient(d_loss, self.discriminator.trainable_weights)\n",
        "        self.d_optimizer.apply_gradients(\n",
        "            zip(grads, self.discriminator.trainable_weights)\n",
        "        )\n",
        "\n",
        "        # Sample random points in the latent space\n",
        "        random_latent_vectors = tf.random.normal(shape=(batch_size, self.latent_dim))\n",
        "\n",
        "        # Assemble labels that say \"all real images\"\n",
        "        misleading_labels = tf.zeros((batch_size, 1))\n",
        "\n",
        "        # Train the generator (note that we should *not* update the weights\n",
        "        # of the discriminator)!\n",
        "        with tf.GradientTape() as tape:\n",
        "            predictions = self.discriminator(self.generator(random_latent_vectors))\n",
        "            g_loss = self.loss_fn(misleading_labels, predictions)\n",
        "        grads = tape.gradient(g_loss, self.generator.trainable_weights)\n",
        "        self.g_optimizer.apply_gradients(zip(grads, self.generator.trainable_weights))\n",
        "\n",
        "        # Update metrics\n",
        "        self.d_loss_metric.update_state(d_loss)\n",
        "        self.g_loss_metric.update_state(g_loss)\n",
        "        return {\n",
        "            \"d_loss\": self.d_loss_metric.result(),\n",
        "            \"g_loss\": self.g_loss_metric.result(),\n",
        "        }\n",
        "\n",
        "\n",
        "class GANMonitor(Callback):\n",
        "    def __init__(self, num_img=3, latent_dim=128):\n",
        "        self.num_img = num_img\n",
        "        self.latent_dim = latent_dim\n",
        "\n",
        "    def on_epoch_end(self, epoch, logs=None):\n",
        "        random_latent_vectors = tf.random.normal(shape=(self.num_img, self.latent_dim))\n",
        "        generated_images = self.model.generator(random_latent_vectors)\n",
        "        generated_images *= 255\n",
        "        generated_images.numpy()\n",
        "        for i in range(self.num_img):\n",
        "            img = image.array_to_img(generated_images[i])\n",
        "            img.save(results_directory + \"/generated_img_%03d_%d.png\" % (epoch, i))\n",
        "\n",
        "\n",
        "# GAN generator\n",
        "generator = Sequential(\n",
        "    [\n",
        "     InputLayer(input_shape=(128,)),\n",
        "     Dense(24 * 24 * 128),\n",
        "     Reshape((24, 24, 128)),\n",
        "     Conv2DTranspose(128, kernel_size=4, strides=2, padding=\"same\"),\n",
        "     LeakyReLU(alpha=0.2),\n",
        "     Conv2DTranspose(256, kernel_size=4, strides=2, padding=\"same\"),\n",
        "     LeakyReLU(alpha=0.2),\n",
        "     Conv2DTranspose(512, kernel_size=4, strides=2, padding=\"same\"),\n",
        "     LeakyReLU(alpha=0.2),\n",
        "     Conv2DTranspose(512, kernel_size=4, strides=2, padding=\"same\"),\n",
        "     LeakyReLU(alpha=0.2),\n",
        "     Conv2D(3, kernel_size=5, padding=\"same\", activation=\"sigmoid\"),\n",
        "     ],\n",
        "     name=\"generator\",\n",
        ")\n",
        "\n",
        "# GAN discriminator\n",
        "discriminator = Sequential(\n",
        "    [\n",
        "        InputLayer(input_shape=(384, 384, 3)),\n",
        "        Conv2D(64, kernel_size=4, strides=2, padding=\"same\"),\n",
        "        LeakyReLU(alpha=0.2),\n",
        "        Conv2D(128, kernel_size=4, strides=2, padding=\"same\"),\n",
        "        LeakyReLU(alpha=0.2),\n",
        "        Conv2D(128, kernel_size=4, strides=2, padding=\"same\"),\n",
        "        LeakyReLU(alpha=0.2),\n",
        "        Flatten(),\n",
        "        Dropout(0.2),\n",
        "        Dense(1, activation=\"sigmoid\"),\n",
        "    ],\n",
        "    name=\"discriminator\",\n",
        ")"
      ],
      "execution_count": 8,
      "outputs": []
    },
    {
      "cell_type": "markdown",
      "metadata": {
=======
>>>>>>> b0a82ff91589df1a80c3c45bbf3dc0a1a2cbc2d3
        "id": "KKM4nHbrplUy"
      },
      "source": [
        "### Visualization functions"
      ]
    },
    {
      "cell_type": "code",
      "metadata": {
        "id": "LsxlyrxqoXLm"
      },
      "source": [
        "def show_diagnosis(dataset, id='image', random_state=None,\n",
        "                   training_path='/content/data/ISIC2018_Task3_Training_Input/'):\n",
        "  '''\n",
        "  Plots examples of each diagnosis in the training dataset.\n",
        "  '''\n",
        "\n",
        "  # Set random seed for reproducible results\n",
        "  random.seed(random_state)\n",
        "\n",
        "  # Create figure\n",
        "  fig = plt.figure(figsize=(12, 7))\n",
        "  plt.title('Diagnostic Examples', fontsize=13)\n",
        "  plt.grid()\n",
        "  plt.axis(False)\n",
        "  columns = 4\n",
        "  rows = 2\n",
        "  ax = []\n",
        "\n",
        "  # Diagnosis\n",
        "  diagnosis = dataset.drop(id, axis=1).columns\n",
        "\n",
        "  # Iterate for every diagnosis\n",
        "  for index, col in enumerate(diagnosis):\n",
        "    dataset_diagnosis = dataset.loc[dataset[col] == 1, id].values\n",
        "    idx = random.choice(dataset_diagnosis)\n",
        "    label = col\n",
        "\n",
        "    # Read image\n",
        "    img = plt.imread(training_path + idx + '.jpg')\n",
        "\n",
        "    # Create subplot and append to ax\n",
        "    ax.append(fig.add_subplot(rows, columns, index+1))\n",
        "\n",
        "    # Hide grid lines\n",
        "    ax[-1].grid(False)\n",
        "\n",
        "    # Hide axes ticks\n",
        "    ax[-1].set_xticks([])\n",
        "    ax[-1].set_yticks([])\n",
        "    ax[-1].set_title(label)\n",
        "    plt.imshow(img)\n",
        "\n",
        "  # Add one more example\n",
        "  col = random.choice(diagnosis)\n",
        "  dataset_diagnosis = dataset.loc[dataset[col] == 1, id].values\n",
        "  idx = random.choice(dataset_diagnosis)\n",
        "  label = col\n",
        "\n",
        "  # Read image\n",
        "  img = plt.imread(training_path + idx + '.jpg')\n",
        "\n",
        "  # Create subplot and append to ax\n",
        "  ax.append(fig.add_subplot(rows, columns, 8))\n",
        "\n",
        "  # Hide grid lines\n",
        "  ax[-1].grid(False)\n",
        "\n",
        "  # Hide axes ticks\n",
        "  ax[-1].set_xticks([])\n",
        "  ax[-1].set_yticks([])\n",
        "  ax[-1].set_title(label)\n",
        "  plt.imshow(img)\n",
        "\n",
        "  plt.show()\n",
        "\n",
<<<<<<< HEAD
        "\n",
        "def show_transformations(dataset, id='image', random_state=None,\n",
        "                   training_path='/content/data/ISIC2018_Task3_Training_Input/'):\n",
        "  '''\n",
        "  Plots examples of transformations applied in the training dataset.\n",
        "  '''\n",
        "\n",
        "  # Set random seed for reproducible results\n",
        "  random.seed(random_state)\n",
        "\n",
        "  # Create figure\n",
        "  fig = plt.figure(figsize=(12, 7))\n",
        "  plt.suptitle('Transformation Examples', fontsize=13)\n",
        "  plt.grid()\n",
        "  plt.axis(False)\n",
        "  columns = 2\n",
        "  rows = 2\n",
        "  ax = []\n",
        "\n",
        "  # Select a random image from the training set\n",
        "  idx = random.choice(dataset[id])\n",
        "\n",
        "  # Read image\n",
        "  img = plt.imread(training_path + idx + '.jpg')\n",
        "\n",
        "  # Plot original image and each transformation\n",
        "  for index in range(0, 4):\n",
        "\n",
        "    if index == 0:\n",
        "      img = img\n",
        "      label = 'Original Image'\n",
        "\n",
        "    elif index == 1:\n",
        "      img = draw_hair(img)\n",
        "      label = 'Image with random fake hair'\n",
        "\n",
        "    elif index == 2:\n",
        "      img = dermoscope(img, p=1)\n",
        "      label = 'Image seen from a dermoscope'\n",
        "\n",
        "    elif index == 3:\n",
        "      img = custom_preprocessing_function(img)\n",
        "      label = 'Preprocessed Image'\n",
        "\n",
        "    # Create subplot and append to ax\n",
        "    ax.append(fig.add_subplot(rows, columns, index+1))\n",
        "\n",
        "    # Hide grid lines\n",
        "    ax[-1].grid(False)\n",
        "\n",
        "    # Hide axes ticks\n",
        "    ax[-1].set_xticks([])\n",
        "    ax[-1].set_yticks([])\n",
        "    ax[-1].set_title(label)\n",
        "    plt.imshow(img)\n",
        "\n",
        "\n",
=======
>>>>>>> b0a82ff91589df1a80c3c45bbf3dc0a1a2cbc2d3
        "def plot_model_history(model_history, save=True):\n",
        "  '''\n",
        "  Plot model's validation loss and validation accuracy.\n",
        "  '''\n",
        "\n",
        "  fig, axs = plt.subplots(1,2,figsize=(16, 7))\n",
        "\n",
        "  # summarize history for accuracy\n",
        "  axs[0].plot(range(1, len(model_history.history['accuracy'])+1), model_history.history['accuracy'])\n",
        "  axs[0].plot(range(1, len(model_history.history['val_accuracy'])+1), model_history.history['val_accuracy'])\n",
        "  axs[0].set_title('Model Accuracy')\n",
        "  axs[0].set_ylabel('Accuracy')\n",
        "  axs[0].set_xlabel('Epoch')\n",
        "  axs[0].set_xticks(np.arange(1,len(model_history.history['accuracy'])+1),len(model_history.history['accuracy'])/10)\n",
        "  axs[0].legend(['Training', 'Validation'], loc='best')\n",
        "\n",
        "  # summarize history for loss\n",
        "  axs[1].plot(range(1, len(model_history.history['loss'])+1), model_history.history['loss'])\n",
        "  axs[1].plot(range(1, len(model_history.history['val_loss'])+1), model_history.history['val_loss'])\n",
        "  axs[1].set_title('Model Loss')\n",
        "  axs[1].set_ylabel('Loss')\n",
        "  axs[1].set_xlabel('Epoch')\n",
        "  axs[1].set_xticks(np.arange(1,len(model_history.history['loss'])+1),len(model_history.history['loss'])/10)\n",
        "  axs[1].legend(['Training', 'Validation'], loc='best')\n",
        "\n",
        "  if save == True:\n",
        "      plt.savefig('Training history.png')\n",
        "\n",
        "  plt.show()"
      ],
<<<<<<< HEAD
      "execution_count": 9,
      "outputs": []
    },
    {
      "cell_type": "markdown",
      "metadata": {
        "id": "_GggNPOiibYG"
      },
      "source": [
        "### Training functions"
      ]
    },
    {
      "cell_type": "code",
      "metadata": {
        "id": "EmRRiTSaidsQ"
      },
      "source": [
        "def conv_net(input_height, input_width, n_channels=3, n_filters=64, batchnorm=True, num_classes=7):\n",
        "  '''\n",
        "  Defines a small ConvNet model to be trained from scratch.\n",
        "  '''\n",
        "\n",
        "  inputs = Input(shape=(input_height, input_width, n_channels))\n",
        "\n",
        "  # 1st Conv-Conv-Pool\n",
        "  x = Conv2D(filters=n_filters, kernel_size=3, activation=\"relu\", padding=\"same\")(inputs)\n",
        "  x = Conv2D(filters=n_filters, kernel_size=3, activation=\"relu\", padding=\"same\")(x)\n",
        "  x = MaxPooling2D(pool_size=2)(x)\n",
        "\n",
        "  if batchnorm:\n",
        "    x = BatchNormalization()(x)\n",
        "\n",
        "  # 2nd Conv-Conv-Pool\n",
        "  x = Conv2D(filters=n_filters*2, kernel_size=3, activation=\"relu\", padding=\"same\")(x)\n",
        "  x = Conv2D(filters=n_filters*2, kernel_size=3, activation=\"relu\", padding=\"same\")(x)\n",
        "  x = MaxPooling2D(pool_size=2)(x)\n",
        "\n",
        "  if batchnorm:\n",
        "    x = BatchNormalization()(x)\n",
        "\n",
        "  # Dense layers\n",
        "  x = Flatten()(x)\n",
        "  x = Dense(256, activation=\"relu\")(x)\n",
        "\n",
        "  if num_classes == 2:\n",
        "    units = 1\n",
        "    activation = \"sigmoid\"\n",
        "  else:\n",
        "    units = num_classes\n",
        "    activation = \"softmax\"\n",
        "\n",
        "  outputs = Dense(units, activation=activation)(x)\n",
        "\n",
        "  model = Model(inputs, outputs)\n",
        "\n",
        "  return model\n",
        "\n",
        "\n",
        "def print_model_menu():\n",
        "  '''\n",
        "  Prints selection menu to define base model and settings for training.\n",
        "  '''\n",
        "\n",
        "  # Print main menu\n",
        "  print(\"\\nSelect a pre-trained model from the list or train a model from scratch.\")\n",
        "  print(\"\\n\\t0) Train a model from scratch\")\n",
        "  print(\"\\t1) MobileNetV2\")\n",
        "  print(\"\\t2) ResNet50V2\")\n",
        "  print(\"\\t3) InceptionV3\")\n",
        "  print(\"\\t4) EfficientNetB3\")\n",
        "  print(\"\\t5) NASNet\")\n",
        "\n",
        "  selection = int(input())\n",
        "\n",
        "  if selection == 0:\n",
        "    img_size = 384\n",
        "    base_model = 'ConvNet'\n",
        "  elif selection == 1:\n",
        "    img_size = 224\n",
        "    base_model = 'MobileNetV2'\n",
        "  elif selection == 2:\n",
        "    img_size = 224\n",
        "    base_model = 'ResNet50V2'\n",
        "  elif selection == 3:\n",
        "    img_size = 299\n",
        "    base_model = 'InceptionV3'\n",
        "  elif selection == 4:\n",
        "    img_size = 224\n",
        "    base_model = 'EfficientNetB3'\n",
        "  elif selection == 5:\n",
        "    img_size = 331\n",
        "    base_model = 'NASNet'\n",
        "  else:\n",
        "    raise ValueError('Invalid option. Select a number from 0 to 5.')\n",
        "\n",
        "\n",
        "  print(\"\\nChoose a specific batch size for training.\")\n",
        "\n",
        "  batch_size = int(input())\n",
        "\n",
        "  print(\"\\nChoose a starting learning rate for training.\")\n",
        "\n",
        "  learning_rate = float(input())\n",
        "\n",
        "  return base_model, img_size, batch_size, learning_rate"
      ],
      "execution_count": 10,
=======
      "execution_count": null,
>>>>>>> b0a82ff91589df1a80c3c45bbf3dc0a1a2cbc2d3
      "outputs": []
    },
    {
      "cell_type": "markdown",
      "metadata": {
        "id": "KBDU0nS438Ae"
      },
      "source": [
        "# Main Project"
      ]
    },
    {
      "cell_type": "markdown",
      "metadata": {
        "id": "z3kE-JST-9Xu"
      },
      "source": [
        "## Download data"
      ]
    },
    {
      "cell_type": "markdown",
      "metadata": {
<<<<<<< HEAD
        "id": "qiFwY6bVTuQ2"
      },
      "source": [
        "### Training data"
      ]
    },
    {
      "cell_type": "markdown",
      "metadata": {
=======
>>>>>>> b0a82ff91589df1a80c3c45bbf3dc0a1a2cbc2d3
        "id": "gnTvGz30g3pU"
      },
      "source": [
        "ISIC 2018 Dataset (HAM10000)"
      ]
    },
    {
      "cell_type": "code",
      "metadata": {
        "id": "QVgXOpmcjqfk"
      },
      "source": [
        "# Prepare directory to download data\n",
        "phases = ['Training', 'Validation', 'Test']\n",
        "data_root = os.path.join(os.getcwd(), 'data')\n",
        "data_dir = {phase:os.path.join(data_root, phase) for phase in phases}\n",
        "\n",
<<<<<<< HEAD
=======
        "# Define download function\n",
        "def download(url, destination_folder='.'):\n",
        "  !wget -nc -q --show-progress $url -P $destination_folder\n",
        "\n",
>>>>>>> b0a82ff91589df1a80c3c45bbf3dc0a1a2cbc2d3
        "# Download Training.zip, Validation.zip, Test.zip and ground truth labels\n",
        "for phase in phases:\n",
        "  download(f'https://isic-challenge-data.s3.amazonaws.com/2018/ISIC2018_Task3_{phase}_Input.zip', data_root)\n",
        "\n",
        "for phase in phases[:2]:\n",
        "  download(f'https://isic-challenge-data.s3.amazonaws.com/2018/ISIC2018_Task3_{phase}_GroundTruth.zip', data_root)"
      ],
      "execution_count": null,
      "outputs": []
    },
    {
      "cell_type": "code",
      "metadata": {
        "id": "QPEgl6JFALWA"
      },
      "source": [
        "# Unzip Training.zip, Validation.zip, Test.zip and ground truth labels\n",
        "for phase in phases:\n",
        "  if not os.path.exists(data_dir[phase]):\n",
        "    with zipfile.ZipFile(os.path.join(data_root, f'ISIC2018_Task3_{phase}_Input.zip'), 'r') as myzip:\n",
        "      for file in tqdm(myzip.namelist(), desc=f'Extracting {phase}.zip'):\n",
        "        myzip.extract(member=file, path=data_root)\n",
        "\n",
        "for phase in phases[:2]:\n",
        "  if not os.path.exists(data_dir[phase]):\n",
        "    with zipfile.ZipFile(os.path.join(data_root, f'ISIC2018_Task3_{phase}_GroundTruth.zip'), 'r') as myzip:\n",
        "      for file in tqdm(myzip.namelist(), desc=f'Extracting {phase}.zip'):\n",
        "        myzip.extract(member=file, path=data_root)"
      ],
      "execution_count": null,
      "outputs": []
    },
    {
      "cell_type": "markdown",
      "metadata": {
        "id": "025K4GpE517U"
      },
      "source": [
<<<<<<< HEAD
        "Download additional data: BCN20000 (Dermoscopic Images)"
=======
        "Download additional data: BCN20000"
>>>>>>> b0a82ff91589df1a80c3c45bbf3dc0a1a2cbc2d3
      ]
    },
    {
      "cell_type": "code",
      "metadata": {
        "id": "bodR6Es9_bU1"
      },
      "source": [
<<<<<<< HEAD
        "# Download BCN20000 dataset\n",
        "!sla-cli download -c bcn_20000"
=======
        "!sla-cli download bcn_20000"
>>>>>>> b0a82ff91589df1a80c3c45bbf3dc0a1a2cbc2d3
      ],
      "execution_count": null,
      "outputs": []
    },
    {
      "cell_type": "code",
      "metadata": {
        "id": "R-AqAU6wzmD2"
      },
      "source": [
<<<<<<< HEAD
        "df = pd.read_csv('/content/bcn_20000/metadata.csv')\n",
        "\n",
=======
        "df = pd.read_csv('/content/bcn_20000/metadata.csv')"
      ],
      "execution_count": null,
      "outputs": []
    },
    {
      "cell_type": "code",
      "metadata": {
        "id": "brmI_yxW0YDB"
      },
      "source": [
>>>>>>> b0a82ff91589df1a80c3c45bbf3dc0a1a2cbc2d3
        "diagn_map = {'melanoma': 'MEL', 'basal cell carcinoma': 'BCC', 'seborrheic keratosis': 'BKL',\n",
        "             'actinic keratosis': 'AKIEC', 'solar lentigo': 'BKL', 'dermatofibroma': 'DF',\n",
        "             'vascular lesion': 'VASC'}\n",
        "\n",
        "df['dx'] = df['dx'].map(diagn_map)\n",
        "df = df.dropna(subset=['dx'], axis=0).reset_index(drop=True)\n",
        "bcn_data = df[['image_name', 'dx']].copy()"
      ],
<<<<<<< HEAD
      "execution_count": 15,
=======
      "execution_count": null,
>>>>>>> b0a82ff91589df1a80c3c45bbf3dc0a1a2cbc2d3
      "outputs": []
    },
    {
      "cell_type": "code",
      "metadata": {
        "id": "ZkcV8Ov25QnC"
      },
      "source": [
        "bcn_dir = '/content/bcn_20000/images'\n",
        "train_dir = '/content/data/ISIC2018_Task3_Training_Input'\n",
        "\n",
        "file_names = os.listdir(bcn_dir)\n",
        "\n",
        "for file_name in file_names:\n",
        "    shutil.move(os.path.join(bcn_dir, file_name), train_dir)"
      ],
      "execution_count": null,
      "outputs": []
    },
    {
      "cell_type": "markdown",
      "metadata": {
        "id": "qAqZoLQpBHeF"
      },
      "source": [
<<<<<<< HEAD
        "PAD-UFES-20 (Camera Images)"
=======
        "PAD-UFES-20"
>>>>>>> b0a82ff91589df1a80c3c45bbf3dc0a1a2cbc2d3
      ]
    },
    {
      "cell_type": "code",
      "metadata": {
        "id": "bnwOuImN6T3L"
      },
      "source": [
<<<<<<< HEAD
        "# Download PAD-UFES-20 dataset. Error in cleaning up doesn't affect the images\n",
        "!sla-cli download -c pad_ufes_20"
=======
        "# Error in cleaning up doesn't affect the images\n",
        "!sla-cli download pad_ufes_20"
>>>>>>> b0a82ff91589df1a80c3c45bbf3dc0a1a2cbc2d3
      ],
      "execution_count": null,
      "outputs": []
    },
    {
      "cell_type": "code",
      "metadata": {
        "id": "cpHvmpuXEBn5"
      },
      "source": [
<<<<<<< HEAD
        "df2 = pd.read_csv('/content/PAD_UFES_20/metadata.csv')\n",
        "\n",
=======
        "df2 = pd.read_csv('/content/PAD_UFES_20/metadata.csv')"
      ],
      "execution_count": null,
      "outputs": []
    },
    {
      "cell_type": "code",
      "metadata": {
        "id": "zNN36suGB6ip"
      },
      "source": [
>>>>>>> b0a82ff91589df1a80c3c45bbf3dc0a1a2cbc2d3
        "diagn_map2 = {'BCC': 'BCC', 'ACK': 'AKIEC', 'SEK': 'BKL', 'MEL': 'MEL'}\n",
        "\n",
        "df2['diagnostic'] = df2['diagnostic'].map(diagn_map2)\n",
        "df2 = df2.dropna(subset=['diagnostic'], axis=0).reset_index(drop=True)\n",
        "pad_data = df2[['img_id', 'diagnostic']]"
      ],
<<<<<<< HEAD
      "execution_count": 16,
=======
      "execution_count": null,
>>>>>>> b0a82ff91589df1a80c3c45bbf3dc0a1a2cbc2d3
      "outputs": []
    },
    {
      "cell_type": "code",
      "metadata": {
        "id": "gWDifwsZDub4"
      },
      "source": [
        "pad_dir = '/content/PAD_UFES_20/images'\n",
        "train_dir = '/content/data/ISIC2018_Task3_Training_Input'\n",
        "    \n",
        "file_names = os.listdir(pad_dir)\n",
        "\n",
        "for file_name in file_names:\n",
        "    shutil.move(os.path.join(pad_dir, file_name), train_dir)"
      ],
      "execution_count": null,
      "outputs": []
    },
    {
      "cell_type": "markdown",
      "metadata": {
<<<<<<< HEAD
        "id": "Xwq_iLZvTwXG"
      },
      "source": [
        "### Testing data under different evaluation scenarios"
      ]
    },
    {
      "cell_type": "markdown",
      "metadata": {
        "id": "7Cwbh8irW2nN"
      },
      "source": [
        "UDA1: Dermoscopic Images for Melanoma vs Nevi classification"
=======
        "id": "MTI5P7VR5mea"
      },
      "source": [
        "## Load and explore data"
>>>>>>> b0a82ff91589df1a80c3c45bbf3dc0a1a2cbc2d3
      ]
    },
    {
      "cell_type": "code",
      "metadata": {
<<<<<<< HEAD
        "id": "EeKrjvWYURlA"
      },
      "source": [
        "# Download UDA1 dataset\n",
        "!sla-cli download -c uda_1"
=======
        "id": "elZn-8YnwSG_"
      },
      "source": [
        "# Reading the datasets\n",
        "train_labels = pd.read_csv(os.path.join(data_root, 'ISIC2018_Task3_Training_GroundTruth/ISIC2018_Task3_Training_GroundTruth.csv'))\n",
        "val_labels = pd.read_csv(os.path.join(data_root, 'ISIC2018_Task3_Validation_GroundTruth/ISIC2018_Task3_Validation_GroundTruth.csv'))"
>>>>>>> b0a82ff91589df1a80c3c45bbf3dc0a1a2cbc2d3
      ],
      "execution_count": null,
      "outputs": []
    },
    {
      "cell_type": "code",
      "metadata": {
<<<<<<< HEAD
        "id": "J09zTCDVXse0"
      },
      "source": [
        "# Create dataframe with labels\n",
        "uda_1_labels = pd.read_csv('/content/uda_1/metadata.csv')\n",
        "\n",
        "dx_map = {'nevus': 'NV', 'melanoma': 'MEL'}\n",
        "\n",
        "uda_1_labels['image_name'] = uda_1_labels['image_name'] + '.jpg'\n",
        "uda_1_labels['dx'] = uda_1_labels['dx'].map(dx_map)\n",
        "uda_1_labels = uda_1_labels.dropna(subset=['dx'], axis=0).reset_index(drop=True)\n",
        "uda_1_labels = uda_1_labels[['image_name', 'dx']]"
=======
        "id": "Ff7tseHOki-J"
      },
      "source": [
        "# Integrate all data\n",
        "training_labels = train_labels.copy()\n",
        "training_labels['diagnosis'] = training_labels.iloc[:, 1:].idxmax(axis=1)\n",
        "training_labels['img_id'] = training_labels['image'] + '.jpg'\n",
        "train_data = training_labels[['img_id', 'diagnosis']]\n",
        "\n",
        "validation_labels = val_labels.copy()\n",
        "validation_labels['diagnosis'] = validation_labels.iloc[:, 1:].idxmax(axis=1)\n",
        "validation_labels['img_id'] = validation_labels['image'] + '.jpg'\n",
        "val_data = validation_labels[['img_id', 'diagnosis']]\n",
        "\n",
        "bcn_data['img_id'] =  bcn_data['image_name'] + '.jpg'\n",
        "bcn_data = bcn_data[['img_id', 'dx']]\n",
        "bcn_data = bcn_data.rename(columns={'dx':'diagnosis'})\n",
        "\n",
        "pad_data = pad_data.rename(columns={'diagnostic':'diagnosis'})\n",
        "\n",
        "# Create merged dataset\n",
        "train_all = pd.concat([train_data, bcn_data, pad_data], axis=0).reset_index(drop=True)"
>>>>>>> b0a82ff91589df1a80c3c45bbf3dc0a1a2cbc2d3
      ],
      "execution_count": null,
      "outputs": []
    },
    {
      "cell_type": "markdown",
      "metadata": {
<<<<<<< HEAD
        "id": "DaqORQ_wKN6E"
      },
      "source": [
        "MEDNODE: Camera Images for Melanoma vs Nevi classification"
=======
        "id": "gy4uN0vg7cmZ"
      },
      "source": [
        "Check for null values.\n",
        "\n"
>>>>>>> b0a82ff91589df1a80c3c45bbf3dc0a1a2cbc2d3
      ]
    },
    {
      "cell_type": "code",
      "metadata": {
<<<<<<< HEAD
        "id": "kPTsFzLpKN_Z"
      },
      "source": [
        "# Download MEDNODE dataset\n",
        "!sla-cli download -c mednode"
=======
        "id": "_wR7xY5F7SoJ"
      },
      "source": [
        "train_labels.isnull().sum()"
>>>>>>> b0a82ff91589df1a80c3c45bbf3dc0a1a2cbc2d3
      ],
      "execution_count": null,
      "outputs": []
    },
    {
      "cell_type": "code",
      "metadata": {
<<<<<<< HEAD
        "id": "LI8jhHkiMBGQ"
      },
      "source": [
        "# Create dataframe with labels\n",
        "mednode_labels = pd.read_csv('/content/mednode/metadata.csv')\n",
        "dx_map = {'nevus': 'NV', 'melanoma': 'MEL'}\n",
        "\n",
        "mednode_labels['image_name'] = mednode_labels['image_name'] + '.jpg'\n",
        "mednode_labels['dx'] = mednode_labels['dx'].map(dx_map)\n",
        "mednode_labels = mednode_labels.dropna(subset=['dx'], axis=0).reset_index(drop=True)\n",
        "mednode_labels = mednode_labels[['image_name', 'dx']]"
=======
        "id": "MTpuGm8L7SrF"
      },
      "source": [
        "train_labels.describe()"
>>>>>>> b0a82ff91589df1a80c3c45bbf3dc0a1a2cbc2d3
      ],
      "execution_count": null,
      "outputs": []
    },
    {
      "cell_type": "markdown",
      "metadata": {
<<<<<<< HEAD
        "id": "PHbRW7osYlJr"
      },
      "source": [
        "MSK2 & UDA2: Dermoscopic Images for Multiclass and Benign vs Malignant classification"
      ]
    },
    {
      "cell_type": "code",
      "metadata": {
        "id": "PAB3txm-LxOh"
      },
      "source": [
        "# Download MSK2 dataset\n",
        "!sla-cli download -c msk_2"
      ],
      "execution_count": null,
      "outputs": []
=======
        "id": "7tUEgv7zzdgv"
      },
      "source": [
        "## Data Visualisation"
      ]
    },
    {
      "cell_type": "markdown",
      "metadata": {
        "id": "P0T2Xh_WJKIs"
      },
      "source": [
        "Show class distribution before and after integrating additional data"
      ]
>>>>>>> b0a82ff91589df1a80c3c45bbf3dc0a1a2cbc2d3
    },
    {
      "cell_type": "code",
      "metadata": {
<<<<<<< HEAD
        "id": "_WVCTo6MtCw6"
      },
      "source": [
        "# Create dataframe with labels\n",
        "msk_labels = pd.read_csv('/content/msk_2/metadata.csv')\n",
        "dx_map = {'nevus': 'NV', 'melanoma': 'MEL', 'solar lentigo': 'BKL', \n",
        "          'seborrheic keratosis': 'BKL', 'basal cell carcinoma': 'BCC', \n",
        "             'actinic keratosis': 'AKIEC'}\n",
        "\n",
        "msk_labels['image_name'] = msk_labels['image_name'] + '.jpg'\n",
        "msk_labels['dx'] = msk_labels['dx'].map(dx_map)\n",
        "msk_labels = msk_labels.dropna(subset=['dx'], axis=0).reset_index(drop=True)\n",
        "msk_labels = msk_labels[['image_name', 'dx']]"
=======
        "id": "N6QV_aW4XCnv"
      },
      "source": [
        "# Count the number of diagnoses\n",
        "plt.figure(figsize=(10, 7))\n",
        "\n",
        "plt.title('Distribution of skin diseases')\n",
        "sns.countplot(data=train_data, x='diagnosis')\n",
        "\n",
        "plt.show()"
>>>>>>> b0a82ff91589df1a80c3c45bbf3dc0a1a2cbc2d3
      ],
      "execution_count": null,
      "outputs": []
    },
    {
      "cell_type": "code",
      "metadata": {
<<<<<<< HEAD
        "id": "a4_sM9vIRKc4"
      },
      "source": [
        "# Download UDA2 dataset\n",
        "!sla-cli download -c uda_2"
=======
        "id": "GUw65IiQIQ2b"
      },
      "source": [
        "# Count the number of diagnoses\n",
        "plt.figure(figsize=(10, 7))\n",
        "\n",
        "plt.title('Distribution of skin diseases')\n",
        "sns.countplot(data=train_all, x='diagnosis')\n",
        "\n",
        "plt.show()"
>>>>>>> b0a82ff91589df1a80c3c45bbf3dc0a1a2cbc2d3
      ],
      "execution_count": null,
      "outputs": []
    },
    {
<<<<<<< HEAD
      "cell_type": "code",
      "metadata": {
        "id": "IHw_pGv5uASX"
      },
      "source": [
        "# Create dataframe with labels\n",
        "uda_2_labels = pd.read_csv('/content/uda_2/metadata.csv')\n",
        "\n",
        "dx_map = {'nevus': 'NV', 'melanoma': 'MEL', 'seborrheic keratosis': 'BKL',\n",
        "          'basal cell carcinoma': 'BCC', 'dermatofibroma': 'DF',\n",
        "          'angioma': 'VASC', 'lichenoid keratosis': 'BKL'}\n",
        "\n",
        "uda_2_labels['image_name'] = uda_2_labels['image_name'] + '.jpg'\n",
        "uda_2_labels['dx'] = uda_2_labels['dx'].map(dx_map)\n",
        "uda_2_labels = uda_2_labels.dropna(subset=['dx'], axis=0).reset_index(drop=True)\n",
        "uda_2_labels = uda_2_labels[['image_name', 'dx']]"
      ],
      "execution_count": null,
      "outputs": []
=======
      "cell_type": "markdown",
      "metadata": {
        "id": "Vi45HBAlJRMl"
      },
      "source": [
        "Compare percentages"
      ]
>>>>>>> b0a82ff91589df1a80c3c45bbf3dc0a1a2cbc2d3
    },
    {
      "cell_type": "code",
      "metadata": {
<<<<<<< HEAD
        "id": "cI3Wk3uzwahj"
      },
      "source": [
        "# Merge image directories and the respective dataframes\n",
        "msk_uda_labels = pd.concat([msk_labels, uda_2_labels], axis=0).reset_index(drop=True)\n",
        "\n",
        "uda_dir = '/content/uda_2/images'\n",
        "msk_dir = '/content/msk_2/images'\n",
        "\n",
        "file_names = os.listdir(uda_dir)\n",
        "\n",
        "for file_name in file_names:\n",
        "    shutil.move(os.path.join(uda_dir, file_name), msk_dir)"
      ],
      "execution_count": null,
      "outputs": []
    },
    {
      "cell_type": "markdown",
      "metadata": {
        "id": "MTI5P7VR5mea"
      },
      "source": [
        "## Load and explore data"
      ]
    },
    {
      "cell_type": "code",
      "metadata": {
        "id": "elZn-8YnwSG_"
      },
      "source": [
        "# Reading the datasets\n",
        "train_labels = pd.read_csv(os.path.join(data_root, 'ISIC2018_Task3_Training_GroundTruth/ISIC2018_Task3_Training_GroundTruth.csv'))\n",
        "val_labels = pd.read_csv(os.path.join(data_root, 'ISIC2018_Task3_Validation_GroundTruth/ISIC2018_Task3_Validation_GroundTruth.csv'))"
      ],
      "execution_count": 13,
      "outputs": []
    },
    {
      "cell_type": "code",
      "metadata": {
        "id": "Ff7tseHOki-J"
      },
      "source": [
        "# Integrate all data\n",
        "training_labels = train_labels.copy()\n",
        "training_labels['diagnosis'] = training_labels.iloc[:, 1:].idxmax(axis=1)\n",
        "training_labels['img_id'] = training_labels['image'] + '.jpg'\n",
        "train_data = training_labels[['img_id', 'diagnosis']]\n",
        "\n",
        "validation_labels = val_labels.copy()\n",
        "validation_labels['diagnosis'] = validation_labels.iloc[:, 1:].idxmax(axis=1)\n",
        "validation_labels['img_id'] = validation_labels['image'] + '.jpg'\n",
        "val_data = validation_labels[['img_id', 'diagnosis']]\n",
        "\n",
        "bcn_data['img_id'] =  bcn_data['image_name'] + '.jpg'\n",
        "bcn_data = bcn_data[['img_id', 'dx']]\n",
        "bcn_data = bcn_data.rename(columns={'dx':'diagnosis'})\n",
        "\n",
        "pad_data = pad_data.rename(columns={'diagnostic':'diagnosis'})\n",
        "\n",
        "# Create merged dataset\n",
        "train_all = pd.concat([train_data, bcn_data, pad_data], axis=0).reset_index(drop=True)"
      ],
      "execution_count": 17,
      "outputs": []
    },
    {
      "cell_type": "markdown",
      "metadata": {
        "id": "gy4uN0vg7cmZ"
      },
      "source": [
        "Check for null values\n",
        "\n"
      ]
    },
    {
      "cell_type": "code",
      "metadata": {
        "id": "_wR7xY5F7SoJ"
      },
      "source": [
        "train_labels.isnull().sum()"
      ],
      "execution_count": null,
      "outputs": []
    },
    {
      "cell_type": "code",
      "metadata": {
        "id": "MTpuGm8L7SrF"
      },
      "source": [
        "train_all.describe()"
      ],
      "execution_count": null,
      "outputs": []
    },
    {
      "cell_type": "markdown",
      "metadata": {
        "id": "7tUEgv7zzdgv"
      },
      "source": [
        "## Data Visualisation"
      ]
    },
    {
      "cell_type": "markdown",
      "metadata": {
        "id": "P0T2Xh_WJKIs"
      },
      "source": [
        "Show class distribution before and after integrating additional data"
      ]
    },
    {
      "cell_type": "code",
      "metadata": {
        "id": "N6QV_aW4XCnv",
        "colab": {
          "base_uri": "https://localhost:8080/",
          "height": 464
        },
        "outputId": "cbaacdc4-e489-4a52-cd2e-a1d604d7b46b"
      },
      "source": [
        "# Count the number of diagnoses\n",
        "plt.figure(figsize=(10, 7))\n",
        "\n",
        "plt.title('Distribution of skin diseases')\n",
        "sns.countplot(data=train_data, x='diagnosis')\n",
        "\n",
        "plt.show()"
      ],
      "execution_count": 18,
      "outputs": [
        {
          "output_type": "display_data",
          "data": {
            "image/png": "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\n",
            "text/plain": [
              "<Figure size 720x504 with 1 Axes>"
            ]
          },
          "metadata": {
            "tags": []
          }
        }
      ]
    },
    {
      "cell_type": "code",
      "metadata": {
        "id": "GUw65IiQIQ2b",
        "colab": {
          "base_uri": "https://localhost:8080/",
          "height": 464
        },
        "outputId": "58ee3c59-e088-4a53-97cb-7e2448129e4c"
      },
      "source": [
        "# Count the number of diagnoses\n",
        "plt.figure(figsize=(10, 7))\n",
        "\n",
        "plt.title('Distribution of skin diseases')\n",
        "sns.countplot(data=train_all, x='diagnosis')\n",
        "\n",
        "plt.show()"
      ],
      "execution_count": 19,
      "outputs": [
        {
          "output_type": "display_data",
          "data": {
            "image/png": "iVBORw0KGgoAAAANSUhEUgAAAnIAAAG/CAYAAADcsDpiAAAABHNCSVQICAgIfAhkiAAAAAlwSFlzAAALEgAACxIB0t1+/AAAADh0RVh0U29mdHdhcmUAbWF0cGxvdGxpYiB2ZXJzaW9uMy4yLjIsIGh0dHA6Ly9tYXRwbG90bGliLm9yZy+WH4yJAAAgAElEQVR4nO3df3zN9f//8fvOfmKYYTP0yY+8tfJOYzUpvyaNGotV0yoVQqWU0PJjK/nR0Jv8rvzo7Z24JL9HSJSUZL2VpB8S3rLZ2Pw225xzvn+4OF/Lxmxzzp7O7Xq5dLlsr+fr9TqP8+x1jvuez9cPD7vdbhcAAACMY3F1AQAAACgZghwAAIChCHIAAACGIsgBAAAYiiAHAABgKIIcAACAoQhyAK4oMTFR06ZNK5N9paWlKSwsTFarVZL0xBNPaNGiRWWyb0nq3bu3li5dWmb7K66JEycqIiJCd99991VtFxkZqW+++abQtgceeEBbt24ti/IK9POKFSvUs2fPMtkvANfycnUBAFwrMjJSR44ckaenpzw9PXXTTTcpJiZGcXFxsljO/603cuTIYu9r1KhRatmyZZHr1K5dW9u3by+T2qdMmaL9+/drwoQJjmWzZs0qk31fjbS0NM2dO1cbN25U9erVy2y/q1atKrN9XaxLly7q0qXLNdk3AOciyAHQzJkz1bJlS508eVLfffedRo8erR07dmjs2LFl+jrnzp2Tl9f197WTlpamgICAMg1xAFAcTK0CcKhcubLat2+vSZMmaenSpfr9998lSQkJCZo4caIkKTs7W3379lV4eLjuvPNOxcfHy2azafDgwUpLS1O/fv0UFham999/X3/99ZcaN26sRYsWqW3btnryyScdy86dO+d43f/973966KGH1KxZMz377LM6duyYJGnr1q1q3bp1gRovTEVu2rRJ7777rj799FOFhYU5RpgunkK02WyaPn262rVrp7vuuktDhgzRyZMnJclRx9KlS9W2bVtFRERoxowZRfbNyZMnNWTIELVo0ULt2rXT9OnTZbPZ9M0336hnz57KzMxUWFiYEhISLtm2qD77uz179igyMlIpKSkF3qt0fvRxwIABGjJkiMLCwvTAAw/op59+KrLer7/+Wh07dlTz5s01cuRIXfwQnyVLlujRRx+VJNntdo0ZM0Z33XWXmjVrps6dOzv+v+fl5Sk5OVlt27ZVy5YtlZiYqLNnz0qSjh8/rr59+6pFixa644471LdvXx06dKjAa7Rv315hYWGKjIzUihUrHG2ffPKJOnXqpDvuuEO9evXSwYMHr1gLgMIR5ABc4rbbblOtWrWUmpp6SdvcuXMVHBysLVu26Ouvv9bAgQPl4eGh8ePHq3bt2po5c6a2b9+uZ555xrHNtm3btHr1as2ePbvQ11u2bJnGjBmjzZs3y8vLS6NGjbpija1bt1bfvn3VqVMnbd++vUBQuGDJkiVaunSp5s2bp/Xr1+vMmTOXTBN///33WrNmjf79739r2rRp2rNnT6Gv9+abb+rkyZNav369/vOf/2j58uVavHixWrZsqffff19BQUHavn273nrrrWL32cV+/vln9erVSyNGjFB0dHShNWzYsEEPPPCAUlNTFRkZqTfffLPQ9bKzs9W/f3+99NJL+vbbb/V///d/+u9//1voups3b1ZqaqrWrl2r77//XpMmTVJAQIAkacKECdq7d6+WLVumdevWKTMz03GupM1mU7du3bRx40Zt3LhRvr6+jr49c+aMRo0apffff1/bt2/XwoULFRoaKklav3693n33XU2dOlVbtmxR8+bN9corr1yxFgCFI8gBKFRQUJCOHz9+yXIvLy8dPnxYaWlp8vb2Vnh4+CWh5O9eeOEFVaxYUX5+foW2x8TE6B//+IcqVqyoAQMGaM2aNY6LIUpj5cqVeuqpp3TDDTeoUqVKGjhwoFavXl1gNLB///7y8/PTzTffrJtvvlm//vrrJfuxWq1avXq1XnnlFfn7+6tu3bp6+umnCw2PhblSn6WmpurZZ59VcnKy2rVrV+R+mjdvrjZt2sjT01MxMTGF1ipJmzZtUqNGjdSxY0d5e3vrySefVI0aNYqs7fTp0/rzzz9lt9vVsGFDBQUFyW636+OPP9bQoUMVEBAgf39/9e3b13HeXrVq1RQVFaUKFSrI399fzz77rLZt2+bYr8Vi0e7du3X27FkFBQWpUaNGkqSFCxeqT58+atiwoby8vNSvXz/98ssvOnjwYJG1ACja9XeyCoAykZGRoapVq16yvFevXpo6darjqse4uDj16dPnsvuqVavWZdtDQkIcP9euXVv5+fk6evRoCaouKDMzU3Xq1HH8XqdOHZ07d05ZWVmOZRcHnAoVKujMmTOX7Ofo0aPKz89X7dq1C9SZkZFRrDqu1GcLFy7UHXfcoYiIiMvu5+Ja/fz8lJubW+h5h5mZmQX63MPDo0AfX+yuu+7SY489ppEjR+rgwYO677779Oqrryo3N1c5OTnq1q2bY1273e6YEs7JydHYsWP11VdfOQL/6dOnZbVaVbFiRU2cOFFz5szRsGHD1KxZM7366qtq2LCh0tLSNGbMGCUnJxfYb0ZGRpG1+Pv7X7ZfAHfGiByAS+zYsUMZGRlq3rz5JW3+/v5KSEjQ559/rhkzZmju3LnasmXLZfd3pRG79PT0Aj97e3urWrVqqlChguOcLOn8yFh2dnax9xsUFOQ4/0o6f1GCl5fXVV+UUK1aNXl7eystLa1AncHBwcXa/kp99sYbbyg9PV1jxoy5qrqKUrNmzQLnq9nt9gJ9/Hc9evTQkiVLtHr1au3bt0+zZs1StWrV5Ofnp1WrVik1NVWpqan6/vvvHVccz5kzR3v37tXHH3+s//73v5o/f77jtSSpVatWmjt3rjZv3qwGDRpoxIgRks6H9jfeeMOxz9TUVO3YsUPNmjUrshYARSPIAXA4deqUNm7cqIEDB6pLly5q3LjxJets3LhR+/fvl91uV+XKleXp6ekIVDVq1NCBAweu+nVXrFihP/74Qzk5OXrnnXcUFRUlT09P1a9fX7m5ufriiy+Un5+vGTNmKC8vz7Fd9erVdfDgwUIvHJCk6Oho/fvf/9aBAwd0+vRpTZw4UZ06dbrqK2c9PT3VsWNHTZw4UadOndLBgwc1d+7cYt/C43J9JkmVKlXSrFmzlJqaWuBWKiXVpk0b7d69W+vWrdO5c+c0b948HTlypNB1d+zYoR9//FH5+fmqUKGCfHx8ZLFYZLFY9PDDD2vMmDGOEcyMjAx99dVXks6Pvvn6+qpKlSo6duyYpk6d6tjnkSNHHOck+vj4qGLFio5b2XTv3l3vvfeedu/eLen8RSSffvrpZWsBUDQ+IQAcV5q2adNGM2fO1NNPP13krUf279+vp59+WmFhYYqLi9Ojjz6qFi1aSJL69OmjGTNmKDw8vMgLGwoTExOjhIQE3X333crLy9OwYcMknb+KNikpScOHD1fr1q1VoUKFAlOGHTt2lCRFRESoa9eul+w3NjZWXbp00eOPP6727dvLx8fHMTJ0tUaMGKEKFSro3nvvVXx8vKKjoxUbG1usbS/XZxdUqVJFc+bM0aZNmzRp0qQS1XhBYGCg3nnnHb399tuKiIjQ/v37HSNef3f69GkNHz5cd955p9q1a6eAgAD16tVLkjR48GDdeOONeuSRR9SsWTM99dRT2rt3ryTpySefVG5urlq0aKG4uDi1atXKsU+bzaYPPvhArVq10p133qlt27bp9ddflyR16NBBvXv31sCBA9WsWTNFR0dr06ZNV6wFQOE87Bdfkw4AAABjMCIHAABgKIIcAACAoQhyAAAAhnLKfeT++usvPf/8847fT548qVOnTum7777T3r17lZCQoGPHjikgIEDJycmqV6+eJJW4DQAAwB245GKH0aNHy2q1KjExUT169FBsbKxiYmIcj7yZN2+eJJW4DQAAwB04Pcjl5eWpdevWmj17tmrVqqWoqCht3bpVnp6eslqtioiI0Lp162S320vUFhgY6My3AwAA4DJOf0TXhg0bFBwcrFtvvVU7d+5UcHCwPD09JZ2/6WZQUJDS09Nlt9tL1HY1Qe7o0dOy2bj7CgAAKL8sFg9Vq1ap0DanB7nFixcX+yaa11pRnQIAAGACpwa5jIwMbdu2TePGjZN0/pl7GRkZslqtjinSzMxMhYSEOB6ifLVtVyMr6xQjcgAAoFyzWDxUvbp/4W3OLGTp0qVq06aNqlWrJun8cxJDQ0OVkpIiSUpJSVFoaKgCAwNL3AYAAOAunHqxQ1RUlIYNG6bWrVs7lu3Zs0cJCQk6ceKEqlSpouTkZDVo0KBUbcXFiBwAACjvLjci59bPWiXIAQCA8q7cTK0CAACg7BDkAAAADEWQAwAAMBRBDgAAwFAEOQAAAEMR5AAAAAxFkAMAADAUQQ4AAMBQBDkAAABDEeQAAAAMRZADAAAwlJerCyivKlfxk5+vt6vLcImzufk6eeKsq8sAAABXQJArgp+vt+KHzHd1GS7x0bjHdFIEOQAAyjumVgEAAAxFkAMAADAUQQ4AAMBQBDkAAABDEeQAAAAMRZADAAAwFEEOAADAUAQ5AAAAQxHkAAAADEWQAwAAMBRBDgAAwFAEOQAAAEMR5AAAAAxFkAMAADAUQQ4AAMBQBDkAAABDEeQAAAAMRZADAAAwFEEOAADAUAQ5AAAAQxHkAAAADEWQAwAAMBRBDgAAwFAEOQAAAEMR5AAAAAxFkAMAADAUQQ4AAMBQBDkAAABDEeQAAAAMRZADAAAwFEEOAADAUAQ5AAAAQzktyOXm5iopKUn33XefOnfurBEjRkiS9u7dq7i4OEVFRSkuLk779u1zbFPSNgAAAHfgtCA3fvx4+fr6au3atVq5cqUGDBggSUpKSlJ8fLzWrl2r+Ph4JSYmOrYpaRsAAIA7cEqQO336tJYtW6YBAwbIw8NDklSjRg1lZWVp165dio6OliRFR0dr165dys7OLnEbAACAu/ByxoscOHBAAQEBmjp1qrZu3apKlSppwIAB8vPzU3BwsDw9PSVJnp6eCgoKUnp6uux2e4naAgMDnfGWAAAAXM4pQc5qterAgQO65ZZb9Oqrr+rHH39Uv3799M477zjj5YtUvbq/S1+/PKtZs7KrSwAAAFfglCAXEhIiLy8vx1Ro06ZNVa1aNfn5+SkjI0NWq1Wenp6yWq3KzMxUSEiI7HZ7idquRlbWKdls9kLb3D3IHD580tUlAAAASRaLR5GDT045Ry4wMFARERH6+uuvJZ2/4jQrK0v16tVTaGioUlJSJEkpKSkKDQ1VYGCgqlevXqI2AAAAd+Fht9sLH5IqYwcOHNDQoUN17NgxeXl56aWXXlKbNm20Z88eJSQk6MSJE6pSpYqSk5PVoEEDSSpxW3FdaUQufsj80r1pQ3007jFG5AAAKCcuNyLntCBXHhHkCkeQAwCg/HD51CoAAADKHkEOAADAUAQ5AAAAQxHkAAAADEWQAwAAMBRBDgAAwFAEOQAAAEMR5AAAAAxFkAMAADAUQQ4AAMBQBDkAAABDEeQAAAAMRZADAAAwFEEOAADAUAQ5AAAAQxHkAAAADEWQAwAAMBRBDgAAwFAEOQAAAEMR5AAAAAxFkAMAADAUQQ4AAMBQBDkAAABDEeQAAAAMRZADAAAwFEEOAADAUAQ5AAAAQxHkAAAADEWQAwAAMBRBDgAAwFAEOQAAAEMR5AAAAAxFkAMAADAUQQ4AAMBQBDkAAABDEeQAAAAMRZADAAAwFEEOAADAUAQ5AAAAQxHkAAAADEWQAwAAMBRBDgAAwFAEOQAAAEMR5AAAAAxFkAMAADCUl7NeKDIyUj4+PvL19ZUkDRo0SK1atdIPP/ygxMRE5ebmqk6dOho/fryqV68uSSVuAwAAcAdOHZGbPHmyli9fruXLl6tVq1ay2WwaPHiwEhMTtXbtWoWHh2vChAmSVOI2AAAAd+HSqdWdO3fK19dX4eHhkqTu3btrzZo1pWoDAABwF06bWpXOT6fa7XY1b95cAwcOVHp6umrXru1oDwwMlM1m07Fjx0rcFhAQ4My3BAAA4DJOC3Lz589XSEiI8vLyNHr0aI0cOVIdOnRw1ssXqnp1f5e+fnlWs2ZlV5cAAACuwGlBLiQkRJLk4+Oj+Ph4Pfvss+rRo4fS0tIc62RnZ8tisSggIEAhISElarsaWVmnZLPZC21z9yBz+PBJV5cAAAAkWSweRQ4+OeUcuTNnzujkyfPBwG63a/Xq1QoNDVWTJk109uxZpaamSpIWLlyojh07SlKJ2wAAANyFU0bksrKy9MILL8hqtcpms6lhw4ZKSkqSxWLRuHHjlJSUVOA2IpJK3AYAAOAuPOx2e+Fzi27gSlOr8UPmO7mi8uGjcY8xtQoAQDnh8qlVAAAAlD2CHAAAgKEIcgAAAIYiyAEAABiKIAcAAGAoghwAAIChCHIAAACGIsgBAAAYiiAHAABgKIIcAACAoQhyAAAAhiLIAQAAGIogBwAAYCiCHAAAgKEIcgAAAIYiyAEAABiKIAcAAGAoghwAAIChCHIAAACGIsgBAAAYiiAHAABgKIIcAACAoQhyAAAAhiLIAQAAGIogBwAAYCiCHAAAgKEIcgAAAIYiyAEAABiKIAcAAGAoghwAAIChCHIAAACGIsgBAAAYiiAHAABgKIIcAACAoQhyAAAAhiLIAQAAGIogBwAAYCiCHAAAgKEIcgAAAIYiyAEAABjKy9UFAABwPahaxUc+vr6uLsNl8nJzdfxEnqvLcDsEOQAAyoCPr6/+9VpfV5fhMgPHviuJIOdsTK0CAAAYiiAHAABgKIIcAACAoQhyAAAAhnJ6kJs6daoaN26s33//XZL0ww8/qEuXLoqKilLPnj2VlZXlWLekbQAAAO7AqUHu559/1g8//KA6depIkmw2mwYPHqzExEStXbtW4eHhmjBhQqnaAAAA3IXTbj+Sl5enkSNH6u2331aPHj0kSTt37pSvr6/Cw8MlSd27d1f79u01duzYErfB9apV9ZGXj/veS+lcXq6OHucSfADAtee0IPfOO++oS5cuqlu3rmNZenq6ateu7fg9MDBQNptNx44dK3FbQEBAsWuqXt2/lO/q+lWzZuVSbf/9uN5lVIl5mg+ZpZo13TfIAnBfpf23A1fPKUFu+/bt2rlzpwYNGuSMlyu2rKxTstnshba5+8F4+PDJEm/r7n0nla7/AJiJ7z6++64Vi8WjyMEnpwS5bdu2ac+ePWrfvr0k6dChQ+rVq5eeeOIJpaWlOdbLzs6WxWJRQECAQkJCStQGAADgLpxysUOfPn20efNmbdiwQRs2bFCtWrU0e/Zs9e7dW2fPnlVqaqokaeHCherYsaMkqUmTJiVqAwAAcBcufdaqxWLRuHHjlJSUpNzcXNWpU0fjx48vVRsAAIC7cEmQ27Bhg+PnZs2aaeXKlYWuV9I2AAAAd8CTHQAAAAxFkAMAADAUQQ4AAMBQBDkAAABDEeQAAAAMVewgN3v27EKXz507t8yKAQAAQPEVO8hNmzat0OUzZswos2IAAABQfFe8j9yWLVskSTabTd9++63s9v//bNK//vpLlSpVunbVAQAAoEhXDHLDhg2TJOXm5mro0KGO5R4eHqpZs6aGDx9+7aoDAABAka4Y5C48hWHIkCEaN27cNS8IAAAAxVPsR3RdHOJsNluBNouFi18BAACcrdhB7ueff9bIkSP122+/KTc3V5Jkt9vl4eGhX3755ZoVCAAAgMIVO8glJCSoXbt2GjNmjPz8/K5lTQAAACiGYge5gwcP6uWXX5aHh8e1rAcAAADFVOyT2zp06KDNmzdfy1oAAABwFYo9Ipebm6v+/furefPmqlGjRoE2rmYFAABwvmIHuZtuukk33XTTtawFAAAAV6HYQa5///7Xsg4AAABcpWIHuQuP6irMXXfdVSbFAAAAoPiKHeQuPKrrgqNHjyo/P1/BwcH6/PPPy7wwAAAAXF6xg9yFR3VdYLVaNWPGDFWqVKnMiwIAAMCVlfjZWp6enurXr59mzZpVlvUAAACgmEr1kNSvv/6aGwQDAAC4SLGnVtu0aVMgtOXk5CgvL09JSUnXpDAAAABcXrGD3Pjx4wv8XqFCBdWvX1/+/v5lXhQAAACurNhB7s4775Qk2Ww2HTlyRDVq1JDFUqqZWQAAAJRCsZPYqVOnNGTIEN12221q3bq1brvtNr366qs6efLktawPAAAARSh2kBs1apRycnK0cuVK7dixQytXrlROTo5GjRp1LesDAABAEYo9tfrVV19p/fr1qlChgiSpfv36Gjt2rDp06HDNigMAAEDRij0i5+vrq+zs7ALLjh49Kh8fnzIvCgAAAFdW7BG5hx56SD179tRTTz2l2rVrKy0tTR988IEefvjha1kfAAAAilDsIPfss88qODhYK1euVGZmpoKCgtS7d2+CHAAAgIsUe2p19OjRql+/vj744AOtXr1aH3zwgRo2bKjRo0dfy/oAAABQhGIHuZSUFDVp0qTAsiZNmiglJaXMiwIAAMCVFTvIeXh4yGazFVhmtVovWQYAAADnKHaQCw8P1zvvvOMIbjabTVOmTFF4ePg1Kw4AAABFK/bFDsOGDVPfvn11zz33qHbt2kpPT1fNmjU1c+bMa1kfAAAAilDsIFerVi0tXbpUO3bsUHp6ukJCQnTbbbfxvFUAAAAXKXaQkySLxaLbb79dt99++7WqBwAAAMXEcBoAAIChCHIAAACGIsgBAAAYiiAHAABgKIIcAACAoQhyAAAAhrqq24+UxnPPPae//vpLFotFFStW1IgRIxQaGqq9e/cqISFBx44dU0BAgJKTk1WvXj1JKnEbAACAO3DaiFxycrJWrFihZcuWqWfPnho6dKgkKSkpSfHx8Vq7dq3i4+OVmJjo2KakbQAAAO7AaUGucuXKjp9PnTolDw8PZWVladeuXYqOjpYkRUdHa9euXcrOzi5xGwAAgLtw2tSqdP55rV9//bXsdrtmzZql9PR0BQcHy9PTU5Lk6empoKAgpaeny263l6gtMDCw2PVUr+5f9m/yOlGzZuUrr4Qi0X8A3BHffc7n1CA3evRoSdKyZcs0btw4DRgwwJkvf4msrFOy2eyFtrn7wXj48MkSb+vufSeVrv8AmInvPr77rhWLxaPIwSeXXLX64IMPauvWrapVq5YyMjJktVolSVarVZmZmQoJCVFISEiJ2gAAANyFU4Lc6dOnlZ6e7vh9w4YNqlq1qqpXr67Q0FClpKRIklJSUhQaGqrAwMAStwEAALgLp0yt5uTkaMCAAcrJyZHFYlHVqlU1c+ZMeXh46PXXX1dCQoKmT5+uKlWqKDk52bFdSdsAAADcgVOCXI0aNfTxxx8X2tawYUMtWrSoTNsAAADcAU92AAAAMBRBDgAAwFAEOQAAAEMR5AAAAAxFkAMAADAUQQ4AAMBQBDkAAABDEeQAAAAMRZADAAAwFEEOAADAUAQ5AAAAQxHkAAAADEWQAwAAMBRBDgAAwFAEOQAAAEMR5AAAAAxFkAMAADAUQQ4AAMBQBDkAAABDEeQAAAAMRZADAAAwFEEOAADAUAQ5AAAAQ3m5ugAABVWp6itfHx9Xl+EyuXl5OnE819VlAIARCHJAOePr46On5g5wdRku88HT70giyAFAcTC1CgAAYCiCHAAAgKEIcgAAAIYiyAEAABiKIAcAAGAoghwAAIChCHIAAACGIsgBAAAYiiAHAABgKIIcAACAoQhyAAAAhiLIAQAAGIogBwAAYCiCHAAAgKEIcgAAAIYiyAEAABiKIAcAAGAoghwAAIChCHIAAACGIsgBAAAYyilB7ujRo3rmmWcUFRWlzp07q3///srOzpYk/fDDD+rSpYuioqLUs2dPZWVlObYraRsAAIA7cEqQ8/DwUO/evbV27VqtXLlSN9xwgyZMmCCbzabBgwcrMTFRa9euVXh4uCZMmCBJJW4DAABwF04JcgEBAYqIiHD8fvvttystLU07d+6Ur6+vwsPDJUndu3fXmjVrJKnEbQAAAO7Cy9kvaLPZtGDBAkVGRio9PV21a9d2tAUGBspms+nYsWMlbgsICCh2LdWr+5fNm7oO1axZ2dUlGI3+Kx36DzATn13nc3qQe/PNN1WxYkU9/vjj+uyzz5z98gVkZZ2SzWYvtM3dD8bDh0+WeFt37zuJ/iut0vQf4Cp8dvnsXisWi0eRg09ODXLJycnav3+/Zs6cKYvFopCQEKWlpTnas7OzZbFYFBAQUOI2AAAAd+G024/861//0s6dOzVt2jT5+PhIkpo0aaKzZ88qNTVVkrRw4UJ17NixVG0AAADuwikjcrt379a7776revXqqXv37pKkunXratq0aRo3bpySkpKUm5urOnXqaPz48ZIki8VSojYAAAB34ZQg16hRI/3222+FtjVr1kwrV64s0zYAAAB3wJMdAAAADEWQAwAAMBRBDgAAwFAEOQAAAEMR5AAAAAzl9Cc7AADKr6pVKsjH1z3/acjLPafjJ3JcXQZwVdzz0woAKJSPr5fGDPvE1WW4xNDRD7m6BOCqMbUKAABgKIIcAACAoQhyAAAAhiLIAQAAGIogBwAAYCiCHAAAgKEIcgAAAIYiyAEAABiKIAcAAGAoghwAAIChCHIAAACGIsgBAAAYiiAHAABgKIIcAACAoQhyAAAAhiLIAQAAGIogBwAAYCiCHAAAgKEIcgAAAIYiyAEAABiKIAcAAGAoghwAAIChCHIAAACGIsgBAAAYiiAHAABgKIIcAACAoQhyAAAAhiLIAQAAGIogBwAAYCiCHAAAgKEIcgAAAIYiyAEAABiKIAcAAGAoghwAAIChCHIAAACGIsgBAAAYiiAHAABgKIIcAACAoZwS5JKTkxUZGanGjRvr999/dyzfu3ev4uLiFBUVpbi4OO3bt6/UbQAAAO7CKUGuffv2mj9/vurUqVNgeVJSkuLj47V27VrFx8crMTGx1G0AAADuwilBLjw8XCEhIQWWZWVladeuXYqOjpYkRUdHa9euXcrOzi5xGwAAgDvxctULp6enKzg4WJ6enpIkT09PBQUFKT09XXa7vURtgYGBV1VD9er+ZfumriM1a9w4ojkAABG6SURBVFZ2dQlGo/9Kh/6Dq3DslQ7953wuC3LlQVbWKdls9kLb3P1gPHz4ZIm3dfe+k+i/0ipN/6F03P3447NbOnx2rw2LxaPIwSeXBbmQkBBlZGTIarXK09NTVqtVmZmZCgkJkd1uL1EbAACAO3HZ7UeqV6+u0NBQpaSkSJJSUlIUGhqqwMDAErcBAAC4E6eMyI0aNUrr1q3TkSNH9PTTTysgIECrVq3S66+/roSEBE2fPl1VqlRRcnKyY5uStgEAALgLpwS54cOHa/jw4Zcsb9iwoRYtWlToNiVtAwAAcBc82QEAAMBQBDkAAABDEeQAAAAMRZADAAAwFEEOAADAUAQ5AAAAQxHkAAAADEWQAwAAMBRBDgAAwFAEOQAAAEMR5AAAAAxFkAMAADAUQQ4AAMBQBDkAAABDEeQAAAAMRZADAAAwFEEOAADAUAQ5AAAAQxHkAAAADEWQAwAAMBRBDgAAwFAEOQAAAEMR5AAAAAxFkAMAADAUQQ4AAMBQBDkAAABDEeQAAAAMRZADAAAwFEEOAADAUAQ5AAAAQxHkAAAADEWQAwAAMBRBDgAAwFAEOQAAAEMR5AAAAAzl5eoCAKAsBVT2kbefr6vLcJn8s7k6djLP1WUAV61a1Qry8nHfWHIu75yOHs+56u3ct8cAXJe8/Xy1usfTri7DZe6fN1ciyMFAXj5e+nH6F64uw2WaPte2RNsxtQoAAGAoghwAAIChCHIAAACGIsgBAAAYiiAHAABgKIIcAACAoQhyAAAAhiLIAQAAGMroILd3717FxcUpKipKcXFx2rdvn6tLAgAAcBqjg1xSUpLi4+O1du1axcfHKzEx0dUlAQAAOI2xj+jKysrSrl27NHfuXElSdHS03nzzTWVnZyswMLBY+7BYPC7bXqNapVLXaaor9c2V+FSpXkaVmKm0/VfDv3jH8PWqtP1XoQbHX2lUDahYRpWYp7R9VyWAY680vCv7lVElZiqq/y7Xrx52u91+rQq6lnbu3KlXX31Vq1atciy7//77NX78eN16660urAwAAMA5jJ5aBQAAcGfGBrmQkBBlZGTIarVKkqxWqzIzMxUSEuLiygAAAJzD2CBXvXp1hYaGKiUlRZKUkpKi0NDQYp8fBwAAYDpjz5GTpD179ighIUEnTpxQlSpVlJycrAYNGri6LAAAAKcwOsgBAAC4M2OnVgEAANwdQQ4AAMBQBDkAAABDEeQAAAAMZewjuq4HkZGRqlixolasWCGLxeJY1q1bN+3Zs0cTJ04ssH5CQoLq1q2r/v37u6Jcl4uMjFReXp6+/PJLeXp6SpKWLFmi1157TSNGjFDFihU1ZswY1alTx7FNq1atNGjQIC1ZskRffPGFJk+e7Kryy4XIyEj5+PjI19dXubm5Cg8PV1JSklauXFmgfzZu3KikpCRNnTpVgYGBio2N1datW11cfflxoR99fHyUk5Ojm266Sc8884yaNWumJUuWXHIcTpw40a2uqD9+/LhatWqlRx55RMOHD5ekSz6DlzvGLj5OL5g2bZrq1q2r/Px8TZ8+XatXr5aPj488PT3VokULvfLKK/L29nb+m3WCoj633t7eWrFihebMmaOzZ8+qYsWKuvHGGzV48GDVrl1bp06d0sSJE7Vp0yZVrFhRnp6euu+++9SvXz9Xv6Vrpnfv3mrfvr0effRRxzK73a57771XY8eOVU5Ojvr06aOpU6eqQ4cOjnV+/fVXjR49WidOnFB+fr6qVKmiqVOnqkaNGpJ02X52NYKci505c0bLly9X165dHctatGih2bNnO26rIkmnT5/WunXrtHLlSleVWi4EBQVp8+bNatOmjSRp6dKlBR7J1rJlS7cPa1cyefJk/eMf/5DVatVjjz2mzz77rED7ypUr9a9//UuzZ89Wo0aN9Ndff7mo0vLtQj9K0rp169SnTx/Nnj1bEsdhSkqKmjZtqlWrVmnIkCHy8fEp0F6cY+zi/r3Ya6+9ptzcXC1evFj+/v46d+6cFi9erLy8vOs2yEmFf25Pnz6tuXPnavr06apXr54kaevWrTpy5IhCQkLUp08f3XzzzVq1apV8fHyUm5urjz/+2LVv5BqLjY3V3LlzCwS5rVu3ymKx6I477tCAAQPUokULLV68uECQe+WVVzRo0CC1a9dOkrRv3z5VqFBBkrRo0aIi+7k8BDmmVl2sf//+mjp1qvLy8hzLqlSpooiICMfNjiXp008/VdOmTQv8le+OunbtqiVLlkiSDhw4oDNnzhT6ZY8ry83NVW5uruOPBUlasGCBJk+erHnz5qlRo0YurM4s9913n7p37+4Icu5u8eLFeu6559S4cWN9/vnnBdpKc4zt27dP69ev16hRo+Tv7y9J8vLyUlxcnCpVqlRm9ZdnF39up06dqtdee80RLiQpIiJCt912m7Zs2aK0tDS99tprjiDt6+urJ554wkWVO0f79u21f/9+7dmzx7FsyZIl6tatm44dO6Zvv/1Wb7/9trZv367Dhw871jl06JCCg4Mdv9erV89xTF2un8sDgpyLNWnSRLfeeqsWLFhQYHlsbKwjsEjnD8TY2Fhnl1fu3Hnnnfr99991/PhxLV26VA8++GCB9m+++UYxMTGO/xYtWuSiSsuvF198UTExMbr77rtVt25d3XPPPZLO/4U5bdo0ffjhh7rhhhtcXKV5mjZtqj/++ENSwePw+eefd3FlzvXrr7/q2LFjatGihbp166bFixc72q7mGLtwnMbExKhbt26SpF27dunGG29U1apVr+l7KI/+/rkNDQ3VoUOH1LRp00LX//nnn3XLLbdc16OUhfHx8VHnzp0dx92pU6e0fv16de3aVStWrFDbtm1Vo0YNdejQQUuXLnVs169fPz322GPq2bOnJk+e7AiCWVlZl+3n8oAgVw689NJLev/993X69GnHsrZt2yotLU27d+/Wvn379McffxQYBnZXHh4e6tSpk1atWqVVq1YpOjq6QHvLli21fPlyx38PP/ywiyotvyZPnqzly5fr22+/VW5urj744ANJUv369VWhQoUCI8EovovvrX7xcTht2jQXVuV8n3zyiWJiYuTh4aH77rtPO3bsUEZGhqSrO8YuHKfLly8v8Eetu/r755Y+KdpDDz2kFStWyGq16tNPP1WzZs1Uq1YtLVmyxHEa08WzO5L0zDPPaM2aNYqJiVFaWppiY2O1bds2V72Fq8I5cuVAgwYN1KZNG82dO9exzNvbW126dNGSJUvk4+OjBx54oMCJv+6sa9euevjhh3XHHXeoWrVqri7HWL6+vmrbtq2++OILdezYUUFBQZo0aZJj6qVXr14urtAsP/30k9tPR+fl5SklJUU+Pj5avny5JCk/P19LlixRcHBwqY+xW265Rfv379fx48fdclROKvi5DQ4O1o4dOxyj6he79dZb9dFHH+ncuXPy8nKvf+pvvvlmBQUFadOmTVq8eLGefPJJ7dy5U3/88YeGDRvmWC8zM1Pff/+9mjdvLkkKDg52jAL7+vpq7dq1Gj58+GX7uTxgRK6ceOGFF/TRRx8VGJWLjY3VihUrtGzZMqZVL3LDDTfo5Zdf1nPPPefqUoxms9m0bdu2Aud91KpVS/PmzdOCBQs43+sqrF+/XgsWLFDPnj1dXYpLff7556pfv742bdqkDRs2aMOGDZozZ06BKazSHGP16tVTZGSkEhMTderUKUmS1WrVokWLCnx3Xs8u/tw+99xzeuutt/S///3P0b5t2zbt2LFDd911l4KDg/XWW285zsHOy8vThx9+6KrSnSo2NlZTpkzRvn371L59ey1evFi9e/d2HJcbNmzQCy+84JiCXb9+vaxWq6Tz5yH++eefqlu3riRdtp/LA/eK6eVYrVq1FBMTozlz5jiWNWrUSLVr11Zubq6aNGniwurKn7i4uEKXXzg36YImTZpo9OjRkqQvv/xSrVu3drR169ZNL7300rUttBx68cUX5evrq/z8fDVq1EjPP/98gRPSQ0JC9J///McxahIVFaUTJ04U6LsGDRo4pmTd1Ysvvui4/UjDhg313nvvqWnTpgVOsnY3ixcvVufOnQssCwsLk81mU1pammNZYcfY3104Ti8YNWqU/vnPf+qtt97StGnTFBsbK29vb9lsNrVp0+aSK2OvN4V9bqtWrSo/Pz+9+OKLOnv2rCwWi26++WYNHjxYHh4emjVrlt5++23df//9jisw//7/53oVHR2t5ORkPfLII7Lb7Vq1atUl56JHR0erS5cuGj58uNasWaPx48fL19dX586dU8uWLfXYY49Jkrp3715kP5cHHvaLT+wAAACAMZhaBQAAMBRBDgAAwFAEOQAAAEMR5AAAAAxFkAMAADAUQQ6A20lISNDEiROVmppa6K0vyouZM2cWuIEpAPwd95ED4LbCw8O1du1aV5dRpH79+rm6BADlHCNyAAAAhiLIAbju7dq1S127dlVYWJheeukl5ebmSpK2bt1a4IkV7733nu69916FhYXp/vvv12effeZos1qteuuttxQREaHIyEh9+OGHaty4sc6dOydJeuKJJzRp0iR1795dYWFh6tmzp7Kzsx3bf/7553rggQcUHh6uJ554osATIN577z21atVKYWFhioqK0pYtWyRJU6ZM0aBBgySdf2zQoEGDFBERofDwcMXGxurIkSPXrtMAGIEgB+C6lpeXp+eff14xMTH67rvv1LFjR61bt67QdW+44QbNnz9f33//vfr376/BgwcrMzNTkvTxxx9r06ZNWr58uZYuXar169dfsn1KSorGjh2rLVu2KD8/3/HIvb179+qVV17R0KFDtWXLFrVu3Vr9+vVTXl6e/vzzT82fP1+ffPKJtm/frtmzZ6tOnTqX7Hvp0qU6deqUvvjiC23dulVvvPGG/Pz8yrCnAJiIIAfguvbjjz8qPz9fTz75pLy9vdWxY0f985//LHTdTp06KTg4WBaLRffff79uvPFGx4OxP/30U/Xo0UO1atVS1apV1adPn0u279atm+rXry8/Pz917NhRv/zyiyRp9erVatOmje6++255e3urV69eOnv2rLZv3y5PT0/l5eVpz549ys/PV926dfV///d/l+zby8tLx44d0/79++Xp6akmTZrI39+/DHsKgIm42AHAdS0zM1PBwcHy8PBwLKtdu3ah6y5btkxz587VwYMHJUlnzpzR0aNHHfsJCQlxrFurVq1Ltq9Zs6bj5woVKujMmTOObS9+TYvFopCQEGVkZCgiIkJDhw7VlClT9Mcff+iee+5RQkKCgoODC+w7JiZGhw4d0sCBA3XixAl16dJFL7/8sry9va+2SwBcRxiRA3Bdq1mzpjIyMmS32x3L0tLSLlnv4MGDGj58uEaMGKGtW7cqNTVVjRo1KrCfQ4cOOX6/+OcrCQoKKvCadrtd6enpjrDWuXNnLViwQBs3bpSHh4cmTJhwyT68vb3Vv39/rV69WgsXLtQXX3yhZcuWFbsGANcnghyA69rtt98uLy8vzZs3T/n5+Vq3bp1++umnS9bLycmRh4eHAgMDJUmLFy/W7t27He2dOnXSvHnzlJGRoRMnTuj9998vdg2dOnXSl19+WeDcOR8fH4WFhenPP//Uli1blJeXJx8fH/n6+spiufSr+dtvv9Vvv/0mq9Uqf39/eXl5FboeAPfC1CqA65qPj4+mTJmiESNGaNKkSWrTpo06dOhwyXo33XSTevbsqe7du8vDw0MPPvigmjVr5mh/5JFHtG/fPnXp0kWVKlVSjx499N1338nT0/OKNTRo0EDjx4/Xm2++qYyMDIWGhmrmzJny8fFRXl6e3n77be3Zs0fe3t4KCwvTyJEjL9nHkSNHlJSUpIyMDFWsWFH333+/YmJiStc5AIznYb94vgEAUCxffvmlXn/9dW3cuNHVpQBwY4zLA0AxnD17Vl9++aXOnTunjIwMTZs2Tffee6+rywLg5hiRA4BiyMnJ0eOPP64///xTfn5+atu2rYYNG8YtQAC4FEEOAADAUEytAgAAGIogBwAAYCiCHAAAgKEIcgAAAIYiyAEAABiKIAcAAGCo/wdY9S9jspF46AAAAABJRU5ErkJggg==\n",
            "text/plain": [
              "<Figure size 720x504 with 1 Axes>"
            ]
          },
          "metadata": {
            "tags": []
          }
        }
      ]
    },
    {
      "cell_type": "markdown",
      "metadata": {
        "id": "Vi45HBAlJRMl"
      },
      "source": [
        "Compare percentages"
      ]
    },
    {
      "cell_type": "code",
      "metadata": {
        "id": "nR9ydTN-7kSq",
        "colab": {
          "base_uri": "https://localhost:8080/"
        },
        "outputId": "fad1aa25-7d75-4482-cc9c-1d03b21e8c18"
=======
        "id": "nR9ydTN-7kSq"
>>>>>>> b0a82ff91589df1a80c3c45bbf3dc0a1a2cbc2d3
      },
      "source": [
        "# Show percentages\n",
        "print(f\"Initial percentage of each diagnosis:\\n{100*train_data['diagnosis'].value_counts(normalize=True).to_frame()}\")\n",
        "\n",
        "# Show percentages\n",
        "print(f\"\\nFinal percentage of each diagnosis:\\n{100*train_all['diagnosis'].value_counts(normalize=True).to_frame()}\")"
      ],
<<<<<<< HEAD
      "execution_count": 20,
      "outputs": [
        {
          "output_type": "stream",
          "text": [
            "Initial percentage of each diagnosis:\n",
            "       diagnosis\n",
            "NV     66.949576\n",
            "MEL    11.113330\n",
            "BKL    10.973540\n",
            "BCC     5.132302\n",
            "AKIEC   3.265102\n",
            "VASC    1.417873\n",
            "DF      1.148278\n",
            "\n",
            "Final percentage of each diagnosis:\n",
            "       diagnosis\n",
            "NV     34.116929\n",
            "BCC    21.207958\n",
            "MEL    20.465069\n",
            "BKL    12.578232\n",
            "AKIEC   9.128377\n",
            "VASC    1.287335\n",
            "DF      1.216099\n"
          ],
          "name": "stdout"
        }
      ]
    },
    {
      "cell_type": "markdown",
      "metadata": {
        "id": "0zDfP6I5tEXG"
      },
      "source": [
        "We observe that now the dataset is more balanced, but the DF and VASC class are still too low. \n",
        "\n",
        "Thus, we use a GAN to generate more images and boost these two classes."
      ]
    },
    {
      "cell_type": "markdown",
      "metadata": {
        "id": "qJxVszo9sC-o"
      },
      "source": [
        "### Image augmentation using GANs\n",
        "\n",
        "Move the classes into separate directories"
      ]
    },
    {
      "cell_type": "code",
      "metadata": {
        "id": "8tXc34KjZFay"
      },
      "source": [
        "train_minor = train_all.sort_values('diagnosis')\n",
        "\n",
        "class_names = ['DF', 'VASC']\n",
        "# class_names = list(train_minor.diagnosis.unique())\n",
        "\n",
        "train_dir = '/content/data/ISIC2018_Task3_Training_Input'\n",
        "train_dir_minor = '/content/data/ISIC2018_Task3_Training_Input_'\n",
        "\n",
        "# Moving the image files to their respective categories\n",
        "\n",
        "for c in class_names: # Class name\n",
        "  os.makedirs(os.path.join(train_dir_minor, c))\n",
        "  for i in list(train_minor[train_minor['diagnosis']==c]['img_id']): # Image ID\n",
        "    get_image = os.path.join(train_dir, i) # Path to Images\n",
        "    shutil.move(get_image, os.path.join(train_dir_minor, c))"
      ],
      "execution_count": null,
      "outputs": []
    },
    {
      "cell_type": "code",
      "metadata": {
        "id": "EHWErR_rgdoh"
      },
      "source": [
        "# Prepare training\n",
        "width = 384\n",
        "height = 384\n",
        "channels = 3\n",
        "epochs = 100\n",
        "latent_dim = 128\n",
        "\n",
        "# paths to the training and results directories\n",
        "train_directory = '/content/data/ISIC2018_Task3_Training_Input_/DF'\n",
        "results_directory = '/content/data/ISIC2018_Task3_Training_Input_/DF_GAN'\n",
        "\n",
        "# Define dataset\n",
        "dataset = tf.keras.preprocessing.image_dataset_from_directory(\n",
        "    train_directory, label_mode=None, image_size=(height, width), batch_size=4\n",
        ")\n",
        "\n",
        "dataset = dataset.map(lambda x: x / 255.0)"
      ],
      "execution_count": null,
      "outputs": []
    },
    {
      "cell_type": "code",
      "metadata": {
        "id": "RT07-41riW6Q"
      },
      "source": [
        "# Start training and generating images\n",
        "epochs = 1\n",
        "\n",
        "gan = GAN(discriminator=discriminator, generator=generator, latent_dim=latent_dim)\n",
        "\n",
        "gan.compile(\n",
        "    d_optimizer=optimizers.Adam(learning_rate=0.0001),\n",
        "    g_optimizer=optimizers.Adam(learning_rate=0.0001),\n",
        "    loss_fn=losses.BinaryCrossentropy(),\n",
        ")\n",
        "\n",
        "gan.fit(\n",
        "    dataset, epochs=epochs, callbacks=[GANMonitor(num_img=10, latent_dim=latent_dim)]\n",
        ")"
      ],
=======
>>>>>>> b0a82ff91589df1a80c3c45bbf3dc0a1a2cbc2d3
      "execution_count": null,
      "outputs": []
    },
    {
      "cell_type": "markdown",
      "metadata": {
        "id": "6D1Neln8zdgz"
      },
      "source": [
<<<<<<< HEAD
        "## Diagnosis Visualisation\n",
        "\n",
        "Plot some diagnostic examples."
=======
        "## Diagnosis Visualisation"
>>>>>>> b0a82ff91589df1a80c3c45bbf3dc0a1a2cbc2d3
      ]
    },
    {
      "cell_type": "code",
      "metadata": {
        "id": "ug99kmQonpMu"
      },
      "source": [
        "show_diagnosis(train_labels, random_state=42)"
      ],
      "execution_count": null,
      "outputs": []
    },
    {
      "cell_type": "markdown",
      "metadata": {
<<<<<<< HEAD
        "id": "PljBSutdA0St"
      },
      "source": [
        "## Model Definition"
=======
        "id": "MLggd3A4Fm3s"
      },
      "source": [
        "## Image Augmentation"
>>>>>>> b0a82ff91589df1a80c3c45bbf3dc0a1a2cbc2d3
      ]
    },
    {
      "cell_type": "code",
      "metadata": {
<<<<<<< HEAD
        "id": "hfseoiBNSZ5X"
      },
      "source": [
        "# Define model and settings for training\n",
        "base_model, img_size, batch_size, learning_rate = print_model_menu()\n",
        "\n",
        "if base_model == 'ConvNet':\n",
        "  model = conv_net(input_height=img_size, input_width=img_size)\n",
        "elif base_model == 'MobileNetV2':\n",
        "  from tensorflow.keras.applications.mobilenet_v2 import MobileNetV2 as PTModel, preprocess_input\n",
        "elif base_model == 'ResNet50V2':\n",
        "  from tensorflow.keras.applications.resnet import ResNet50 as PTModel, preprocess_input\n",
        "elif base_model == 'InceptionV3':\n",
        "  from tensorflow.keras.applications.inception_v3 import InceptionV3 as PTModel, preprocess_input\n",
        "elif base_model == 'EfficientNetB7':\n",
        "  from tensorflow.keras.applications.efficientnet import EfficientNetB7 as PTModel, preprocess_input\n",
        "elif base_model == 'NASNet': \n",
        "  from tensorflow.keras.applications.nasnet import NASNetLarge as PTModel, preprocess_input\n",
        "else:\n",
        "  raise ValueError('Unknown model: {}'.format(base_model))\n",
        "\n",
        "# Select the appropriate preprocessing function, if applicable\n",
        "try:\n",
        "  preprocessing_function = preprocess_input\n",
        "except:\n",
        "  preprocessing_function = None"
=======
        "id": "jL0SohPCDS6I"
      },
      "source": [
        "# Set 0 if you want to use EfficientNet or other models with input 224.\n",
        "# Set 1 if you want to use InceptionV3 or other models with input 299.\n",
        "model_id = 0"
>>>>>>> b0a82ff91589df1a80c3c45bbf3dc0a1a2cbc2d3
      ],
      "execution_count": null,
      "outputs": []
    },
    {
      "cell_type": "code",
      "metadata": {
<<<<<<< HEAD
        "colab": {
          "base_uri": "https://localhost:8080/"
        },
        "id": "jqHY7K_4IP8P",
        "outputId": "5b297c65-39c1-487c-95dd-f591cab0235b"
      },
      "source": [
        "# Show selected options\n",
        "print(base_model, img_size, batch_size, learning_rate)"
      ],
      "execution_count": 24,
      "outputs": [
        {
          "output_type": "stream",
          "text": [
            "ConvNet 384 128 0.001\n"
          ],
          "name": "stdout"
        }
      ]
    },
    {
      "cell_type": "markdown",
      "metadata": {
        "id": "MLggd3A4Fm3s"
      },
      "source": [
        "## Image Augmentation\n",
        "\n",
        "Implement data augmentation using Keras Image Generator and custom processing functions.\n",
        "\n",
        "We created two chained transformations: \n",
        " - one for testing with images resized to the required size and normalized,\n",
        " - one for training with some data augmentation: \n",
        "     - __random image rotation__ with a maximum of 20 degrees, \n",
        "     - __random width/height shift__ with maximum fraction equal to 0.1,\n",
        "     - __random zoom__ with a 0.8-1.2 scale,\n",
        "     - __random shear__ with shear intensity equal to 0.2,\n",
        "     - __random horizontal/vertical flip__.\n",
        "\n",
        "In addition, dermoscopic images sometimes include hairs.\n",
        "Thus, we also created and added a __custom augmenter to draw random fake hairs__ and an __augmenter to mimic images shown from a dermoscope__.\n",
        "\n",
        "Let's plot an example of these transformations."
      ]
    },
    {
      "cell_type": "code",
      "metadata": {
        "id": "_FfgbJBrQmLG",
        "colab": {
          "base_uri": "https://localhost:8080/",
          "height": 462
        },
        "outputId": "19b4b5f4-68e4-44dd-e533-605aa2b37c0c"
      },
      "source": [
        "show_transformations(train_labels, random_state=5)"
      ],
      "execution_count": 25,
      "outputs": [
        {
          "output_type": "display_data",
          "data": {
            "image/png": "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\n",
            "text/plain": [
              "<Figure size 864x504 with 5 Axes>"
            ]
          },
          "metadata": {
            "tags": []
          }
        }
      ]
    },
    {
      "cell_type": "markdown",
      "metadata": {
        "id": "lLhfIQYavjuZ"
      },
      "source": [
        "Train/Test Image Generator"
      ]
    },
    {
      "cell_type": "code",
      "metadata": {
=======
>>>>>>> b0a82ff91589df1a80c3c45bbf3dc0a1a2cbc2d3
        "id": "Pagt94hsl0di"
      },
      "source": [
        "# Load data in batches with an ImageDataGenerator\n",
        "\n",
        "datagen_train = ImageDataGenerator(\n",
        "                    rotation_range=20,\n",
        "                    width_shift_range=0.1,\n",
        "                    height_shift_range=0.1,\n",
        "                    brightness_range=None, \n",
        "                    shear_range=0.2,\n",
        "                    zoom_range=0.2,\n",
        "                    channel_shift_range=0.0, \n",
        "                    fill_mode='nearest', \n",
        "                    cval=0.0, \n",
        "                    horizontal_flip=True,\n",
        "                    vertical_flip=True,\n",
        "                    rescale=1.0/255.0, \n",
<<<<<<< HEAD
        "                    preprocessing_function = custom_preprocessing_function,\n",
        "                    validation_split=0.2)\n",
        "\n",
        "datagen_test = ImageDataGenerator(\n",
        "                    rescale=1.0/255.0,\n",
        "                    preprocessing_function = preprocessing_function)"
      ],
      "execution_count": null,
      "outputs": []
    },
    {
      "cell_type": "markdown",
      "metadata": {
        "id": "f1i6z1EMG9CK"
      },
      "source": [
        "Train/Validation/Test directories"
      ]
    },
    {
      "cell_type": "code",
      "metadata": {
        "id": "0aRp2jQ0xm8e"
      },
      "source": [
        "# Training Generators\n",
        "train_batches = datagen_train.flow_from_dataframe(dataframe=train_all, directory=os.path.join(data_root, 'ISIC2018_Task3_Training_Input'),\n",
        "                                                  x_col='img_id', y_col='diagnosis', class_mode='categorical', batch_size=batch_size, shuffle=True,\n",
        "                                                  target_size= (img_size, img_size), subset='training')\n",
        "\n",
        "valid_batches = datagen_train.flow_from_dataframe(dataframe=train_all, directory=os.path.join(data_root, 'ISIC2018_Task3_Training_Input'),\n",
        "                                                  x_col='img_id', y_col='diagnosis', class_mode='categorical', batch_size=batch_size, shuffle=True,\n",
        "                                                  target_size= (img_size, img_size), subset='validation')\n",
        "\n",
        "# Evaluation Generators\n",
        "test_batches = datagen_test.flow_from_directory(data_root, batch_size=batch_size,\n",
        "                                                target_size=(img_size, img_size), shuffle=False, classes = ['ISIC2018_Task3_Test_Input'])\n",
        "\n",
        "valid_ind_batches = datagen_test.flow_from_dataframe(dataframe=val_data, directory=os.path.join(data_root, 'ISIC2018_Task3_Validation_Input'),\n",
        "                                             x_col='img_id', y_col='diagnosis', class_mode='categorical', batch_size=batch_size,\n",
        "                                             shuffle=False, target_size= (img_size, img_size))\n",
=======
        "                    preprocessing_function=None,\n",
        "                    validation_split=0.2)\n",
        "\n",
        "datagen_test = ImageDataGenerator(\n",
        "                    rescale=1.0/255.0)\n",
        "\n",
        "# Shape of the images (lxl)\n",
        "if model_id is 0:\n",
        "  l = 224\n",
        "else:\n",
        "  l = 299\n",
        "\n",
        "batch_size = 128\n",
        "\n",
        "# Training Generators\n",
        "train_batches = datagen_train.flow_from_dataframe(dataframe=train_all, directory=os.path.join(data_root, 'ISIC2018_Task3_Training_Input'),\n",
        "                                                  x_col='img_id', y_col='diagnosis', class_mode='categorical', batch_size=batch_size, shuffle=True,\n",
        "                                                  target_size= (l, l), subset='training')\n",
        "\n",
        "valid_batches = datagen_train.flow_from_dataframe(dataframe=train_all, directory=os.path.join(data_root, 'ISIC2018_Task3_Training_Input'),\n",
        "                                                  x_col='img_id', y_col='diagnosis', class_mode='categorical', batch_size=batch_size, shuffle=True,\n",
        "                                                  target_size= (l, l), subset='validation')\n",
        "\n",
        "# Evaluation Generators\n",
        "test_batches = datagen_test.flow_from_directory(data_root, batch_size=batch_size,\n",
        "                                                target_size=(l, l), shuffle=False, classes = ['ISIC2018_Task3_Test_Input'])\n",
        "\n",
        "valid_ind = datagen_test.flow_from_dataframe(dataframe=val_data, directory=os.path.join(data_root, 'ISIC2018_Task3_Validation_Input'),\n",
        "                                             x_col='img_id', y_col='diagnosis', class_mode='categorical', batch_size=batch_size,\n",
        "                                             shuffle=False, target_size= (l, l))\n",
>>>>>>> b0a82ff91589df1a80c3c45bbf3dc0a1a2cbc2d3
        "\n",
        "\n",
        "batchX, batchy = train_batches.next()\n",
        "print('Batch shape=%s, min=%.3f, max=%.3f' % (batchX.shape, batchX.min(), batchX.max()))"
      ],
      "execution_count": null,
      "outputs": []
    },
    {
<<<<<<< HEAD
      "cell_type": "code",
      "metadata": {
        "id": "mHPVZM5OG7ZR"
      },
      "source": [
        "# Testing generators\n",
        "uda_batches = datagen_test.flow_from_dataframe(dataframe=uda_1_labels, directory='/content/uda_1/images', x_col='image_name', y_col='dx',\n",
        "                                               class_mode='categorical', batch_size=batch_size, shuffle=False, target_size=(img_size, img_size))\n",
        "\n",
        "mednode_batches = datagen_test.flow_from_dataframe(dataframe=mednode_labels, directory='/content/mednode/images', x_col='image_name', y_col='dx',\n",
        "                                                   class_mode='categorical', batch_size=batch_size, shuffle=False, target_size=(img_size, img_size))\n",
        "\n",
        "msk_uda_batches = datagen_test.flow_from_dataframe(dataframe=msk_uda_labels, directory='/content/msk_2/images', x_col='image_name',\n",
        "                                                   y_col='dx', class_mode='categorical', batch_size=batch_size, shuffle=False, target_size=(img_size, img_size))"
      ],
      "execution_count": null,
      "outputs": []
    },
    {
=======
>>>>>>> b0a82ff91589df1a80c3c45bbf3dc0a1a2cbc2d3
      "cell_type": "markdown",
      "metadata": {
        "id": "UiHqaDtWF04v"
      },
      "source": [
<<<<<<< HEAD
        "## Model Training"
      ]
    },
    {
      "cell_type": "markdown",
      "metadata": {
        "id": "XHap9XyF4Gtl"
      },
      "source": [
        "### Train model from scratch to serve as a baseline classifier."
=======
        "## Model Training\n",
        "\n",
        "Create model from scratch to serve as a baseline classifier."
>>>>>>> b0a82ff91589df1a80c3c45bbf3dc0a1a2cbc2d3
      ]
    },
    {
      "cell_type": "code",
      "metadata": {
<<<<<<< HEAD
        "id": "QwIX_x07Vr3X"
      },
      "source": [
        "# Model summary\n",
        "model.summary()"
      ],
      "execution_count": null,
      "outputs": []
    },
    {
      "cell_type": "code",
      "metadata": {
        "id": "-s40WBhx24TK"
      },
      "source": [
        "# Compile model\n",
        "optimizer=optimizers.Adam(learning_rate=learning_rate)\n",
        "model.compile(optimizer=optimizer, loss=\"categorical_crossentropy\", metrics=['accuracy', 'AUC'], weighted_metrics=['accuracy'])"
      ],
      "execution_count": null,
      "outputs": []
    },
    {
      "cell_type": "markdown",
      "metadata": {
        "id": "uooj1tAlbNA4"
      },
      "source": [
        "### Fine-tuning of pre-trained model."
      ]
    },
    {
      "cell_type": "code",
      "metadata": {
        "id": "Q5357VzRZwX1"
      },
      "source": [
        "# Define final model\n",
        "base_pretrained_model = PTModel(input_shape=(img_size, img_size, 3), include_top=False, weights='imagenet')\n",
        "# base_pretrained_model.trainable = False\n",
        "\n",
        "model = base_pretrained_model.output\n",
        "model = GlobalAveragePooling2D()(model)\n",
        "model = Dense(512, activation='relu')(model)\n",
        "model = Dropout(0.2)(model)\n",
        "model = Dense(256, activation='relu')(model)\n",
        "model = Dropout(0.2)(model)\n",
        "model = Dense(128, activation='relu')(model)\n",
        "model = Dropout(0.1)(model)\n",
        "predictions = Dense(7, activation='softmax')(model)\n",
        "\n",
        "model = Model(inputs=base_pretrained_model.input, outputs=predictions)\n",
        "\n",
        "# Model summary\n",
        "model.summary()"
      ],
      "execution_count": null,
      "outputs": []
    },
    {
      "cell_type": "code",
      "metadata": {
        "id": "CqZW1F_M4ToC"
      },
      "source": [
        "# Compile model\n",
        "optimizer=optimizers.Adam(learning_rate=learning_rate)\n",
=======
        "id": "-s40WBhx24TK"
      },
      "source": [
        "model = Sequential()\n",
        "\n",
        "model.add(Conv2D(filters=64, kernel_size = (3,3), activation=\"relu\", input_shape=(224, 224, 3)))\n",
        "model.add(Conv2D(filters=64, kernel_size = (3,3), activation=\"relu\"))\n",
        "\n",
        "model.add(MaxPooling2D(pool_size=(2,2)))\n",
        "model.add(BatchNormalization())\n",
        "model.add(Conv2D(filters=128, kernel_size = (3,3), activation=\"relu\"))\n",
        "model.add(Conv2D(filters=128, kernel_size = (3,3), activation=\"relu\"))\n",
        "\n",
        "model.add(MaxPooling2D(pool_size=(2,2)))\n",
        "model.add(BatchNormalization())\n",
        "\n",
        "model.add(Flatten())\n",
        "model.add(Dense(256,activation=\"relu\"))\n",
        "\n",
        "model.add(Dense(7 ,activation=\"softmax\"))\n",
        "\n",
        "optimizer=optimizers.Adam(learning_rate=0.0001)\n",
>>>>>>> b0a82ff91589df1a80c3c45bbf3dc0a1a2cbc2d3
        "model.compile(optimizer=optimizer, loss=\"categorical_crossentropy\", metrics=['accuracy', 'AUC'], weighted_metrics=['accuracy'])"
      ],
      "execution_count": null,
      "outputs": []
    },
    {
      "cell_type": "code",
      "metadata": {
<<<<<<< HEAD
        "id": "7NwUeQvfi1do"
      },
      "source": [
        "# Freeze all layers except the last 23 layers in the new model.\n",
        "# The last 23 layers of the model will be trained.\n",
        "for layer in model.layers[:-23]:\n",
        "    layer.trainable = False"
      ],
      "execution_count": null,
      "outputs": []
    },
    {
      "cell_type": "markdown",
      "metadata": {
        "id": "j_ZsuezIiPpL"
      },
      "source": [
        "### Callbacks and loss function"
      ]
    },
    {
      "cell_type": "code",
      "metadata": {
=======
>>>>>>> b0a82ff91589df1a80c3c45bbf3dc0a1a2cbc2d3
        "id": "4Iuh-w87P-UJ"
      },
      "source": [
        "# Callback functions\n",
<<<<<<< HEAD
        "filepath = f'/content/drive/MyDrive/Models/ConvNet-{epoch:02d}-{weighted_accuracy:.3f}-{val_weighted_accuracy:.3f}.h5'\n",
        "\n",
        "\n",
        "# Early stopping\n",
        "earlystop_callback = EarlyStopping(monitor='val_loss', patience=15,\n",
        "                                   verbose=1, restore_best_weights = True)\n",
        "\n",
        "# ReduceLR\n",
        "reducelr_callback = ReduceLROnPlateau(monitor='val_loss', patience=10, factor=0.2,\n",
        "                                      verbose=1, restore_best_weights = True)\n",
        "\n",
        "# Save the model's weights\n",
        "checkpoint_callback = ModelCheckpoint(filepath=filepath,\n",
        "                                      save_weights_only=True, mode='max',\n",
        "                                      monitor='val_weighted_accuracy',\n",
        "                                      save_best_only=True, verbose=1)\n",
        "\n",
        "my_callbacks = [earlystop_callback, reducelr_callback, checkpoint_callback]"
=======
        "\n",
        "# Earlystop\n",
        "earlystop_callback = EarlyStopping(monitor = 'val_loss',\n",
        "                                   min_delta = 0,\n",
        "                                   patience = 20,\n",
        "                                   verbose = 1,\n",
        "                                   restore_best_weights = True)\n",
        "\n",
        "# Save the most accurate model's weights\n",
        "checkpoint_callback = ModelCheckpoint(filepath='/content/',\n",
        "                                      save_weights_only=True,\n",
        "                                      monitor='val_weighted_accuracy',\n",
        "                                      mode='max',\n",
        "                                      save_best_only=True)\n",
        "\n",
        "my_callbacks = [earlystop_callback, checkpoint_callback]"
>>>>>>> b0a82ff91589df1a80c3c45bbf3dc0a1a2cbc2d3
      ],
      "execution_count": null,
      "outputs": []
    },
    {
      "cell_type": "code",
      "metadata": {
        "id": "e4i4VXYxm1XB"
      },
      "source": [
        "# Weighted loss\n",
        "class_weights = class_weight.compute_class_weight('balanced',\n",
        "                                                 np.unique(train_all['diagnosis']),\n",
        "                                                 train_all['diagnosis'])\n",
        "class_weights = dict(enumerate(class_weights))\n",
        "\n",
        "print(np.unique(train_all['diagnosis']))\n",
        "print(class_weights)\n",
        "\n",
<<<<<<< HEAD
        "custom_weights = {0: 1.5, 1: 2.0, 2: 1.0, 3: 10.0, 4: 3.0, 5: 0.4, 6: 10.0}"
=======
        "custom_weights = {0: 1.5, 1: 1.0, 2: 1.0, 3: 10.0, 4: 1.1, 5: 0.4, 6: 10.0}"
>>>>>>> b0a82ff91589df1a80c3c45bbf3dc0a1a2cbc2d3
      ],
      "execution_count": null,
      "outputs": []
    },
    {
      "cell_type": "code",
      "metadata": {
<<<<<<< HEAD
        "id": "XAAzVp2hfJhk"
      },
      "source": [
        "steps_per_epoch = 15723 // batch_size\n",
        "valid_steps = 3930 // batch_size"
      ],
      "execution_count": null,
      "outputs": []
    },
    {
      "cell_type": "markdown",
      "metadata": {
        "id": "_eSq-m9PiTAj"
      },
      "source": [
        "### Start training"
      ]
    },
    {
      "cell_type": "code",
      "metadata": {
=======
>>>>>>> b0a82ff91589df1a80c3c45bbf3dc0a1a2cbc2d3
        "id": "0iTLcohipMGi"
      },
      "source": [
        "# Train the model\n",
<<<<<<< HEAD
        "history = model.fit(train_batches, validation_data=valid_batches, epochs=50, callbacks=my_callbacks,\n",
        "                    shuffle=True, verbose=2, class_weight=custom_weights)"
=======
        "history = model.fit(train_batches, validation_data=valid_batches, epochs = 100, callbacks = my_callbacks,\n",
        "                    shuffle = True, steps_per_epoch = 50, verbose=2, class_weight=class_weights)"
>>>>>>> b0a82ff91589df1a80c3c45bbf3dc0a1a2cbc2d3
      ],
      "execution_count": null,
      "outputs": []
    },
    {
      "cell_type": "code",
      "metadata": {
        "id": "qULFyy4Kpyd7"
      },
      "source": [
        "# Save best model's weights\n",
<<<<<<< HEAD
        "# model.save_weights('SimpleCNN.hdf5')\n",
=======
        "model.save_weights('SimpleCNN.hdf5')\n",
>>>>>>> b0a82ff91589df1a80c3c45bbf3dc0a1a2cbc2d3
        "\n",
        "# Plot training history\n",
        "plot_model_history(history)"
      ],
      "execution_count": null,
      "outputs": []
    },
    {
      "cell_type": "markdown",
      "metadata": {
        "id": "lQ0iHis9qUxV"
      },
      "source": [
        "## Model Evaluation"
      ]
    },
    {
      "cell_type": "code",
      "metadata": {
        "id": "5HvLdVhJuveE"
      },
      "source": [
        "# Load model\n",
        "model.load_weights('/content/SimpleCNN.hdf5')\n",
        "\n",
        "# Evaluate the model on the validation dataset\n",
        "\n",
<<<<<<< HEAD
        "results = model.evaluate(valid_ind_batches, batch_size=batch_size)\n",
=======
        "results = model.evaluate(valid_ind, batch_size=batch_size)\n",
>>>>>>> b0a82ff91589df1a80c3c45bbf3dc0a1a2cbc2d3
        "print(\"Test loss: {:.3f}\".format(results[0]))\n",
        "print(\"Test accuracy: {:.3f}\".format(results[1]))"
      ],
      "execution_count": null,
      "outputs": []
    },
    {
      "cell_type": "code",
      "metadata": {
        "id": "inLNhjmlq7Iz"
      },
      "source": [
        "# Get predictions on the test dataset\n",
        "results = model.predict(test_batches, batch_size=batch_size)\n",
        "\n",
        "# Transform predictions on the appropriate format for submission\n",
        "df_pred = pd.DataFrame(results)\n",
        "df_pred = df_pred.rename(columns={0:'AKIEC', 1:'BCC', 2:'BKL', 3:'DF', 4:'MEL', 5:'NV', 6:'VASC'})"
      ],
      "execution_count": null,
      "outputs": []
    },
    {
      "cell_type": "code",
      "metadata": {
        "id": "6p_pMNPf2tHv"
      },
      "source": [
        "ids = []\n",
        "for filename in os.listdir('/content/data/Test/ISIC2018_Task3_Test_Input'):\n",
        "  if os.path.splitext(filename)[1] == '.jpg':\n",
        "    id = os.path.splitext(filename)[0]\n",
        "    ids.append(id)\n",
        "\n",
        "df_pred['image'] = ids"
      ],
      "execution_count": null,
      "outputs": []
    },
    {
      "cell_type": "code",
      "metadata": {
        "id": "pp100gpR1AAM"
      },
      "source": [
        "df_pred.to_csv('InitialResults.csv', index=None)"
      ],
      "execution_count": null,
      "outputs": []
<<<<<<< HEAD
=======
    },
    {
      "cell_type": "code",
      "metadata": {
        "id": "jkIVDtk3599B"
      },
      "source": [
        ""
      ],
      "execution_count": null,
      "outputs": []
>>>>>>> b0a82ff91589df1a80c3c45bbf3dc0a1a2cbc2d3
    }
  ]
}